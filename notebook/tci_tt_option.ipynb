{
 "cells": [
  {
   "cell_type": "code",
   "execution_count": 1,
   "metadata": {},
   "outputs": [],
   "source": [
    "using Statistics\n",
    "using LinearAlgebra\n",
    "using Random\n",
    "using Plots\n",
    "using LaTeXStrings\n",
    "using TensorCrossInterpolation\n",
    "import TensorCrossInterpolation as TCI\n",
    "# using qtt_option\n",
    "# import qtt_option as qo"
   ]
  },
  {
   "cell_type": "code",
   "execution_count": 2,
   "metadata": {},
   "outputs": [
    {
     "data": {
      "text/plain": [
       "countelem (generic function with 1 method)"
      ]
     },
     "metadata": {},
     "output_type": "display_data"
    }
   ],
   "source": [
    "countelem(M) = sum([prod(size(x)) for x in M])"
   ]
  },
  {
   "cell_type": "code",
   "execution_count": 3,
   "metadata": {},
   "outputs": [
    {
     "data": {
      "text/plain": [
       "tci_oneshot (generic function with 1 method)"
      ]
     },
     "metadata": {},
     "output_type": "display_data"
    }
   ],
   "source": [
    "function tci_oneshot(func, d, localdims, firstpivot, tol)\n",
    "    BLAS.set_num_threads(4)\n",
    "    #func_q = GenNDfunc(d, func)\n",
    "\n",
    "    for isearch in 1:100\n",
    "        p = TCI.optfirstpivot(func, localdims, firstpivot) # search optimal fist pivot\n",
    "        if abs(func(p)) > abs(func(firstpivot))\n",
    "            firstpivot = p\n",
    "        end\n",
    "    end\n",
    "\n",
    "    # execute tci2\n",
    "    qtt, ranks, errors = TCI.crossinterpolate2(\n",
    "        ComplexF64,\n",
    "        func, \n",
    "        localdims, \n",
    "        [firstpivot], \n",
    "        tolerance = tol, \n",
    "        maxiter = 10, \n",
    "        verbosity = 1, \n",
    "        loginterval = 1,\n",
    "        pivotsearch = :rook,\n",
    "        # normalizeerror = false,\n",
    "    )\n",
    "\n",
    "    return qtt, errors\n",
    "end    "
   ]
  },
  {
   "cell_type": "code",
   "execution_count": 4,
   "metadata": {},
   "outputs": [
    {
     "data": {
      "text/plain": [
       "def_nonDiag (generic function with 1 method)"
      ]
     },
     "metadata": {},
     "output_type": "display_data"
    }
   ],
   "source": [
    "function def_nonDiag(d, mtr::Matrix{Float64}, nondiag::Float64)\n",
    "    for i in 1:d, j in 1:d\n",
    "        if i != j\n",
    "            mtr[i, j] = nondiag\n",
    "        end\n",
    "    end\n",
    "    return mtr\n",
    "end"
   ]
  },
  {
   "cell_type": "markdown",
   "metadata": {},
   "source": [
    "$$\n",
    "v(\\vec{S}(T)) = \\max \\Bigl\\lbrace \\min \\lbrace S^1_T, \\ldots, S^d_T \\rbrace - K, 0 \\Bigl\\rbrace\n",
    "$$"
   ]
  },
  {
   "cell_type": "code",
   "execution_count": 5,
   "metadata": {},
   "outputs": [],
   "source": [
    "function payoff_v(x::Vector{Float64}, K::Float64)\n",
    "    return maximum([(minimum(exp.(x)) - K), 0.0])\n",
    "end\n",
    ";"
   ]
  },
  {
   "cell_type": "markdown",
   "metadata": {},
   "source": [
    "$$\n",
    "q(\\vec{x}|\\vec{x}_0) = \\frac{1}{\\sqrt{(2 \\pi)^d \\det \\Sigma}} \\exp\\left(-\\frac{1}{2}\\left(\\vec{x}-\\vec{\\mu}\\right)^T \\Sigma^{-1} \\left(\\vec{x}-\\vec{\\mu}\\right)\\right)\n",
    "$$\n",
    "\n",
    "$$\n",
    "\\mu_j = x_0^j+r_j T-\\frac{1}{2} \\sigma_j^2 \\Sigma_{j j} T \n",
    "$$"
   ]
  },
  {
   "cell_type": "code",
   "execution_count": 6,
   "metadata": {},
   "outputs": [
    {
     "data": {
      "text/plain": [
       "normal_dstrb_q (generic function with 1 method)"
      ]
     },
     "metadata": {},
     "output_type": "display_data"
    }
   ],
   "source": [
    "function normal_dstrb_q(d::Int, x::Vector{Float64}, x0::Vector{Float64}, σ::Vector{Float64}, Σ::Matrix{Float64}, T::Float64, r::Float64)\n",
    "    #μ = [x0[i] + r * T - σ[i]^2 * Σ[i,i] * T / 2 for i in 1:d]\n",
    "    μ = [x0[i] + r * T - Σ[i,i] * T / 2 for i in 1:d]\n",
    "    mtrx = transpose(x .- μ) * inv(Σ) * (x .- μ)\n",
    "    \n",
    "    return exp(-mtrx/2)/sqrt((2*π)^d * det(Σ))\n",
    "end"
   ]
  },
  {
   "cell_type": "code",
   "execution_count": 7,
   "metadata": {},
   "outputs": [
    {
     "data": {
      "text/plain": [
       "func (generic function with 1 method)"
      ]
     },
     "metadata": {},
     "output_type": "display_data"
    }
   ],
   "source": [
    "function func(idxs::Vector{Int}, f::Function, N::Int, cut::Float64, slice::Float64)\n",
    "    return f( cut .* ( idxs ) .+ slice )\n",
    "end"
   ]
  },
  {
   "cell_type": "code",
   "execution_count": 8,
   "metadata": {},
   "outputs": [
    {
     "data": {
      "text/plain": [
       "evaluate_options_ (generic function with 1 method)"
      ]
     },
     "metadata": {},
     "output_type": "display_data"
    }
   ],
   "source": [
    "function evaluate_options_(random_combinations, tt_option)\n",
    "    result_hako = []\n",
    "    result_time = []\n",
    "    for i in random_combinations\n",
    "        #@show i\n",
    "        time_inner = @elapsed begin\n",
    "            result = qo._evaluate(tt_option, i)\n",
    "        end\n",
    "        push!(result_hako, result)\n",
    "        push!(result_time, time_inner)\n",
    "    end\n",
    "    return result_hako, result_time\n",
    "end"
   ]
  },
  {
   "cell_type": "code",
   "execution_count": 9,
   "metadata": {},
   "outputs": [
    {
     "data": {
      "text/plain": [
       "3×3 Matrix{Float64}:\n",
       " 0.04       0.0133333  0.0133333\n",
       " 0.0133333  0.04       0.0133333\n",
       " 0.0133333  0.0133333  0.04"
      ]
     },
     "metadata": {},
     "output_type": "display_data"
    }
   ],
   "source": [
    "d = 3\n",
    "T = 1.0\n",
    "r = 0.01\n",
    "K = 100.0\n",
    "s0 = fill(100.0, d)\n",
    "x0 = log.(s0)\n",
    "σ = fill(0.2, d)\n",
    "\n",
    "nondiag = 1/3\n",
    "Σ_ = def_nonDiag(d, Matrix{Float64}(I, d, d), nondiag)\n",
    "σ_ = Matrix{Float64}(I, d, d) .* σ[1]\n",
    "Σ = σ_ * Σ_ * σ_"
   ]
  },
  {
   "cell_type": "code",
   "execution_count": 10,
   "metadata": {},
   "outputs": [
    {
     "data": {
      "text/plain": [
       "q (generic function with 1 method)"
      ]
     },
     "metadata": {},
     "output_type": "display_data"
    }
   ],
   "source": [
    "v(x) = payoff_v(x, K)\n",
    "q(x) = normal_dstrb_q(d, x, x0, σ, Σ, T, r)"
   ]
  },
  {
   "cell_type": "code",
   "execution_count": 11,
   "metadata": {},
   "outputs": [
    {
     "name": "stdout",
     "output_type": "stream",
     "text": [
      "slice = 0.0\n",
      "N * cut + slice = 10.0\n"
     ]
    },
    {
     "data": {
      "text/plain": [
       "q_pre (generic function with 1 method)"
      ]
     },
     "metadata": {},
     "output_type": "display_data"
    }
   ],
   "source": [
    "N = 200\n",
    "cut = 0.05\n",
    "slice = 0.0\n",
    "\n",
    "@show slice\n",
    "@show N*cut + slice\n",
    "\n",
    "idxs_ = fill(80, d) #fill(Int(N/2), d)\n",
    "xs = cut .* ( idxs_ ) .+ slice\n",
    "xsp =  cut .* ( idxs_ .+ 2 ) .+ slice\n",
    "xsm =  cut .* ( idxs_ .- 2 ) .+ slice\n",
    "\n",
    "v_pre(idx) = func(idx, v, N, cut, slice)\n",
    "q_pre(idx) = func(idx, q, N, cut, slice)"
   ]
  },
  {
   "cell_type": "code",
   "execution_count": 12,
   "metadata": {},
   "outputs": [
    {
     "name": "stdout",
     "output_type": "stream",
     "text": [
      "v(xs) - v_pre(idxs_) = 0.0\n",
      "q(xs) - q_pre(idxs_) = 0.0\n",
      "v(xsp) - v_pre(idxs_ .+ 2) = 0.0\n",
      "q(xsp) - q_pre(idxs_ .+ 2) = 0.0\n",
      "v(xsm) - v_pre(idxs_ .- 2) = 0.0\n",
      "q(xsm) - q_pre(idxs_ .- 2) = 0.0\n"
     ]
    }
   ],
   "source": [
    "@show v(xs) - v_pre(idxs_)\n",
    "@show q(xs) - q_pre(idxs_)\n",
    "@show v(xsp) - v_pre(idxs_ .+ 2)\n",
    "@show q(xsp) - q_pre(idxs_ .+ 2)\n",
    "@show v(xsm) - v_pre(idxs_ .- 2)\n",
    "@show q(xsm) - q_pre(idxs_ .- 2)\n",
    ";"
   ]
  },
  {
   "cell_type": "code",
   "execution_count": 13,
   "metadata": {},
   "outputs": [
    {
     "data": {
      "text/plain": [
       "(::TensorCrossInterpolation.ThreadedBatchEvaluator{Float64}) (generic function with 3 methods)"
      ]
     },
     "metadata": {},
     "output_type": "display_data"
    }
   ],
   "source": [
    "localdims = fill(N, d)\n",
    "firstpivot = rand(1:N, d)\n",
    "\n",
    "v_tci = TCI.ThreadedBatchEvaluator{Float64}(v_pre, localdims)\n",
    "q_tci = TCI.ThreadedBatchEvaluator{Float64}(q_pre, localdims)"
   ]
  },
  {
   "cell_type": "code",
   "execution_count": 14,
   "metadata": {},
   "outputs": [
    {
     "data": {
      "text/plain": [
       "1.0e-13"
      ]
     },
     "metadata": {},
     "output_type": "display_data"
    }
   ],
   "source": [
    "tol_v = 1e-6\n",
    "tol_q = 1e-13"
   ]
  },
  {
   "cell_type": "code",
   "execution_count": 15,
   "metadata": {},
   "outputs": [
    {
     "name": "stdout",
     "output_type": "stream",
     "text": [
      "iteration = 1, rank = 8, error= 0.0, maxsamplevalue= 2000.6455894201777, nglobalpivot=2\n",
      "  Rejected 2 global pivots added in the previous iteration, errors are [0.0, 1.4210854715202004e-14]\n",
      "iteration = 2, rank = 15, error= 0.0, maxsamplevalue= 11988.380730216988, nglobalpivot=0\n",
      "iteration = 3, rank = 26, error= 0.0, maxsamplevalue= 11988.380730216988, nglobalpivot=0\n",
      "iteration = 4, rank = 50, error= 0.0, maxsamplevalue= 11988.380730216988, nglobalpivot=1\n",
      "  Rejected 1 global pivots added in the previous iteration, errors are [0.0]\n",
      "iteration = 5, rank = 77, error= 0.0, maxsamplevalue= 11988.380730216988, nglobalpivot=1\n",
      "  Rejected 1 global pivots added in the previous iteration, errors are [2.7284841053187847e-12]\n",
      "iteration = 6, rank = 91, error= 0.0, maxsamplevalue= 11988.380730216988, nglobalpivot=1\n",
      "  Rejected 1 global pivots added in the previous iteration, errors are [0.0]\n",
      "iteration = 7, rank = 95, error= 0.0, maxsamplevalue= 11988.380730216988, nglobalpivot=1\n",
      "  Rejected 1 global pivots added in the previous iteration, errors are [9.094947017729282e-13]\n",
      "iteration = 8, rank = 96, error= 0.0, maxsamplevalue= 11988.380730216988, nglobalpivot=0\n",
      "iteration = 9, rank = 96, error= 0.0, maxsamplevalue= 11988.380730216988, nglobalpivot=0\n",
      "iteration = 10, rank = 96, error= 0.0, maxsamplevalue= 11988.380730216988, nglobalpivot=0\n",
      " 91.143943 seconds (545.62 M allocations: 40.039 GiB, 22.35% gc time, 17.10% compilation time)\n",
      "iteration = 1, rank = 8, error= 0.0, maxsamplevalue= 8.807843713939778, nglobalpivot=5\n",
      "  Rejected 5 global pivots added in the previous iteration, errors are [1.3552527156068805e-19, 1.7416232242968008e-9, 1.6653345369377348e-16, 2.220446049250313e-16, 2.80043384591929e-9]\n",
      "iteration = 2, rank = 14, error= 0.0, maxsamplevalue= 8.807843713939778, nglobalpivot=3\n",
      "  Rejected 3 global pivots added in the previous iteration, errors are [6.938893903907228e-18, 5.1906179007743525e-18, 4.643005092412104e-11]\n",
      "iteration = 3, rank = 23, error= 0.0, maxsamplevalue= 8.807843713939778, nglobalpivot=5\n",
      "  Rejected 5 global pivots added in the previous iteration, errors are [8.8576611129155e-14, 9.011505869063804e-13, 5.172701634574575e-14, 1.907669604356006e-16, 1.217012657392826e-13]\n",
      "iteration = 4, rank = 20, error= 0.0, maxsamplevalue= 8.909765608723438, nglobalpivot=0\n",
      "iteration = 5, rank = 21, error= 0.0, maxsamplevalue= 9.21677850963166, nglobalpivot=0\n",
      "iteration = 6, rank = 21, error= 0.0, maxsamplevalue= 9.21677850963166, nglobalpivot=0\n",
      "iteration = 7, rank = 21, error= 0.0, maxsamplevalue= 9.21677850963166, nglobalpivot=0\n",
      " 15.084855 seconds (67.42 M allocations: 13.013 GiB, 13.12% gc time)\n"
     ]
    },
    {
     "data": {
      "text/plain": [
       "106.261013612"
      ]
     },
     "metadata": {},
     "output_type": "display_data"
    }
   ],
   "source": [
    "tci_time = @elapsed begin\n",
    "    @time qtt_v, errors_v = tci_oneshot(v_tci, d, localdims, firstpivot, tol_v)\n",
    "    @time qtt_q, errors_q = tci_oneshot(q_tci, d, localdims, firstpivot, tol_q)\n",
    "end"
   ]
  },
  {
   "cell_type": "code",
   "execution_count": 16,
   "metadata": {},
   "outputs": [
    {
     "data": {
      "text/plain": [
       "3-element Vector{Array{ComplexF64, 3}}:\n",
       " [2.381556103125557e-104 - 0.0im 1.0500318140296634e-101 - 0.0im … 2.0061723406391077e-153 - 0.0im 1.1920122109296986e-156 - 0.0im;;; 2.1803753700741906e-104 - 0.0im 9.61349323069494e-102 - 0.0im … 1.4144523103032066e-153 - 0.0im 8.404315085949312e-157 - 0.0im;;; -8.97766049390548e-104 + 0.0im -3.9581932112489566e-101 + 0.0im … -1.047793916225975e-152 + 0.0im -6.225665285858768e-156 + 0.0im;;; … ;;; -6.110276864571474e-104 + 0.0im -2.694189391043401e-101 + 0.0im … -2.6687584998629876e-153 + 0.0im -1.5857145228730737e-156 + 0.0im;;; 8.882612989938672e-104 - 0.0im 3.916264789392085e-101 - 0.0im … 1.1815522263918487e-152 - 0.0im 7.020394889470432e-156 - 0.0im;;; 1.1213173263513998e-103 + 0.0im 4.944933372717059e-101 + 0.0im … 2.1478927050155034e-153 + 0.0im 1.2762339595653431e-156 + 0.0im]\n",
       " [5.344300559037799e-115 - 0.0im 3.0553505890149696e-112 - 0.0im … 3.0479803566490317e-164 - 0.0im 1.4314701481180534e-167 - 0.0im; 1.545347139412884e-111 - 0.0im 8.231541486839086e-109 - 0.0im … 1.103851536747673e-168 - 0.0im 4.819768844749222e-172 - 0.0im; … ; 2.4913036867537817e-122 - 0.0im 1.6078925218293937e-119 - 0.0im … 9.865665554669845e-158 - 0.0im 5.268529293147139e-161 - 0.0im; 1.776542682303332e-102 - 0.0im 6.829047895941519e-100 - 0.0im … 3.474542696030899e-195 - 0.0im 1.1014799129543814e-198 - 0.0im;;; 7.921000647254353e-115 - 0.0im 4.529894624378752e-112 - 0.0im … 3.3937757619559108e-164 - 0.0im 1.5940461792015912e-167 - 0.0im; 2.287847089659105e-111 - 0.0im 1.2189763432616634e-108 - 0.0im … 1.2284713984330335e-168 - 0.0im 5.364619353773523e-172 - 0.0im; … ; 3.7020289117381405e-122 - 0.0im 2.390367216572042e-119 - 0.0im … 1.0992201923853566e-157 - 0.0im 5.870578758069314e-161 - 0.0im; 2.6222002134787934e-102 - 0.0im 1.0080828282436029e-99 - 0.0im … 3.8514101734231145e-195 - 0.0im 1.2213480437597597e-198 - 0.0im;;; -2.119741945432978e-115 + 0.0im -1.2115382888043448e-112 + 0.0im … -1.6728957914904508e-164 + 0.0im -7.855359815685561e-168 + 0.0im; -6.135213390857137e-112 + 0.0im -3.2673023377129764e-109 + 0.0im … -6.063166394326283e-169 + 0.0im -2.6468269944473326e-172 + 0.0im; … ; -9.859960669323406e-123 + 0.0im -6.361254512790875e-120 + 0.0im … -5.409330359578503e-158 + 0.0im -2.8883896199842715e-161 + 0.0im; -7.071135329713538e-103 + 0.0im -2.7179076617104307e-100 + 0.0im … -1.9202694694945797e-195 + 0.0im -6.084466092679499e-199 + 0.0im;;; … ;;; 7.538233334518247e-116 - 0.0im 4.306493302026443e-113 - 0.0im … 1.746711588303831e-164 - 0.0im 8.192703449810099e-168 - 0.0im; 2.185379111539737e-112 - 0.0im 1.1633794842878394e-109 - 0.0im … 6.363546957584556e-169 - 0.0im 2.774073841233862e-172 - 0.0im; … ; 3.4933369464605684e-123 - 0.0im 2.2523170453460747e-120 - 0.0im … 5.6098231832937465e-158 - 0.0im 2.9931155259677496e-161 - 0.0im; 2.5299620539823344e-103 - 0.0im 9.72280514632663e-101 - 0.0im … 2.1043018095291555e-195 - 0.0im 6.643465445263584e-199 - 0.0im;;; 1.2840007070918173e-114 - 0.0im 7.364514394578944e-112 - 0.0im … 1.6464501968282347e-164 - 0.0im 7.735129904154235e-168 - 0.0im; 3.6707028446438566e-111 - 0.0im 1.9604095249322473e-108 - 0.0im … 5.953475840466742e-169 - 0.0im 2.600567850229809e-172 - 0.0im; … ; 6.147805612703216e-122 - 0.0im 3.9865062134138776e-119 - 0.0im … 5.340253492495763e-158 - 0.0im 2.8525214889692687e-161 - 0.0im; 4.095390859890641e-102 - 0.0im 1.5758957463319942e-99 - 0.0im … 1.8508896325431268e-195 - 0.0im 5.873463202927756e-199 - 0.0im;;; -7.796433749458173e-115 + 0.0im -4.456906771476738e-112 + 0.0im … -4.823123251737755e-164 + 0.0im -2.265073693708636e-167 + 0.0im; -2.2550013222753808e-111 + 0.0im -1.2010887574162017e-108 + 0.0im … -1.7470300884073967e-168 + 0.0im -7.627744291464268e-172 + 0.0im; … ; -3.6321710779597e-122 + 0.0im -2.3439632614542652e-119 + 0.0im … -1.56079248128679e-157 + 0.0im -8.334833385042284e-161 + 0.0im; -2.594225881407898e-102 + 0.0im -9.97197959338633e-100 + 0.0im … -5.506525765831287e-195 + 0.0im -1.745454372006242e-198 + 0.0im]\n",
       " [1.7499073463694256e-134 + 0.0im 1.5460220336649823e-131 + 0.0im … 2.174416377880031e-186 + 0.0im 6.827634732659578e-190 + 0.0im; 1.3542447247169261e-129 + 0.0im 1.0492926397334582e-126 + 0.0im … 8.705564953896329e-193 + 0.0im 2.397305478920148e-196 + 0.0im; … ; 5.521026402699423e-116 + 0.0im 2.5305486730127782e-113 + 0.0im … 2.5421913571243117e-224 + 0.0im 4.1412366856787564e-228 + 0.0im; 4.928271443396228e-136 + 0.0im 4.520446025035974e-133 + 0.0im … 1.0272089732110437e-184 + 0.0im 3.3486704986345817e-188 + 0.0im;;;]"
      ]
     },
     "metadata": {},
     "output_type": "display_data"
    }
   ],
   "source": [
    "M1 = qtt_v.sitetensors\n",
    "M2 = qtt_q.sitetensors"
   ]
  },
  {
   "cell_type": "code",
   "execution_count": 17,
   "metadata": {},
   "outputs": [
    {
     "name": "stdout",
     "output_type": "stream",
     "text": [
      "smpl_indices_v = Any[[120, 120, 2], [120, 120, 4], [120, 120, 6], [120, 120, 8], [120, 120, 10], [120, 120, 12], [120, 120, 14], [120, 120, 16], [120, 120, 18], [120, 120, 20], [120, 120, 22], [120, 120, 24], [120, 120, 26], [120, 120, 28], [120, 120, 30], [120, 120, 32], [120, 120, 34], [120, 120, 36], [120, 120, 38], [120, 120, 40], [120, 120, 42], [120, 120, 44], [120, 120, 46], [120, 120, 48], [120, 120, 50], [120, 120, 52], [120, 120, 54], [120, 120, 56], [120, 120, 58], [120, 120, 60], [120, 120, 62], [120, 120, 64], [120, 120, 66], [120, 120, 68], [120, 120, 70], [120, 120, 72], [120, 120, 74], [120, 120, 76], [120, 120, 78], [120, 120, 80], [120, 120, 82], [120, 120, 84], [120, 120, 86], [120, 120, 88], [120, 120, 90], [120, 120, 92], [120, 120, 94], [120, 120, 96], [120, 120, 98], [120, 120, 100], [120, 120, 102], [120, 120, 104], [120, 120, 106], [120, 120, 108], [120, 120, 110], [120, 120, 112], [120, 120, 114], [120, 120, 116], [120, 120, 118], [120, 120, 120], [120, 120, 122], [120, 120, 124], [120, 120, 126], [120, 120, 128], [120, 120, 130], [120, 120, 132], [120, 120, 134], [120, 120, 136], [120, 120, 138], [120, 120, 140], [120, 120, 142], [120, 120, 144], [120, 120, 146], [120, 120, 148], [120, 120, 150], [120, 120, 152], [120, 120, 154], [120, 120, 156], [120, 120, 158], [120, 120, 160], [120, 120, 162], [120, 120, 164], [120, 120, 166], [120, 120, 168], [120, 120, 170], [120, 120, 172], [120, 120, 174], [120, 120, 176], [120, 120, 178], [120, 120, 180], [120, 120, 182], [120, 120, 184], [120, 120, 186], [120, 120, 188], [120, 120, 190], [120, 120, 192], [120, 120, 194], [120, 120, 196], [120, 120, 198], [120, 120, 200]]\n",
      "smpl_indices_q = Any[[130, 130, 2], [130, 130, 4], [130, 130, 6], [130, 130, 8], [130, 130, 10], [130, 130, 12], [130, 130, 14], [130, 130, 16], [130, 130, 18], [130, 130, 20], [130, 130, 22], [130, 130, 24], [130, 130, 26], [130, 130, 28], [130, 130, 30], [130, 130, 32], [130, 130, 34], [130, 130, 36], [130, 130, 38], [130, 130, 40], [130, 130, 42], [130, 130, 44], [130, 130, 46], [130, 130, 48], [130, 130, 50], [130, 130, 52], [130, 130, 54], [130, 130, 56], [130, 130, 58], [130, 130, 60], [130, 130, 62], [130, 130, 64], [130, 130, 66], [130, 130, 68], [130, 130, 70], [130, 130, 72], [130, 130, 74], [130, 130, 76], [130, 130, 78], [130, 130, 80], [130, 130, 82], [130, 130, 84], [130, 130, 86], [130, 130, 88], [130, 130, 90], [130, 130, 92], [130, 130, 94], [130, 130, 96], [130, 130, 98], [130, 130, 100], [130, 130, 102], [130, 130, 104], [130, 130, 106], [130, 130, 108], [130, 130, 110], [130, 130, 112], [130, 130, 114], [130, 130, 116], [130, 130, 118], [130, 130, 120], [130, 130, 122], [130, 130, 124], [130, 130, 126], [130, 130, 128], [130, 130, 130], [130, 130, 132], [130, 130, 134], [130, 130, 136], [130, 130, 138], [130, 130, 140], [130, 130, 142], [130, 130, 144], [130, 130, 146], [130, 130, 148], [130, 130, 150], [130, 130, 152], [130, 130, 154], [130, 130, 156], [130, 130, 158], [130, 130, 160], [130, 130, 162], [130, 130, 164], [130, 130, 166], [130, 130, 168], [130, 130, 170], [130, 130, 172], [130, 130, 174], [130, 130, 176], [130, 130, 178], [130, 130, 180], [130, 130, 182], [130, 130, 184], [130, 130, 186], [130, 130, 188], [130, 130, 190], [130, 130, 192], [130, 130, 194], [130, 130, 196], [130, 130, 198], [130, 130, 200]]\n"
     ]
    }
   ],
   "source": [
    "smpl_indices_v = []\n",
    "smpl_indices_q = []\n",
    "for i in 1:100\n",
    "    x = Int(trunc(N/100)) * i\n",
    "    push!(smpl_indices_v, vcat(fill(Int(trunc(N*0.6)), d-1), x))\n",
    "    push!(smpl_indices_q, vcat(fill(Int(trunc(N*0.65)), d-1), x))\n",
    "end\n",
    "@show smpl_indices_v\n",
    "@show smpl_indices_q\n",
    ";"
   ]
  },
  {
   "cell_type": "code",
   "execution_count": 18,
   "metadata": {},
   "outputs": [
    {
     "ename": "UndefVarError",
     "evalue": "UndefVarError: `qo` not defined",
     "output_type": "error",
     "traceback": [
      "UndefVarError: `qo` not defined\n",
      "\n",
      "Stacktrace:\n",
      " [1] macro expansion\n",
      "   @ ~/Library/Mobile Documents/com~apple~CloudDocs/4年前期/finance/TTvsQTT_Option/notebook/jl_notebook_cell_df34fa98e69747e1a8f8a730347b8e2f_X12sZmlsZQ==.jl:7 [inlined]\n",
      " [2] macro expansion\n",
      "   @ ./timing.jl:395 [inlined]\n",
      " [3] evaluate_options_(random_combinations::Vector{Any}, tt_option::Vector{Array{ComplexF64, 3}})\n",
      "   @ Main ~/Library/Mobile Documents/com~apple~CloudDocs/4年前期/finance/TTvsQTT_Option/notebook/jl_notebook_cell_df34fa98e69747e1a8f8a730347b8e2f_X12sZmlsZQ==.jl:6\n",
      " [4] top-level scope\n",
      "   @ ~/Library/Mobile Documents/com~apple~CloudDocs/4年前期/finance/TTvsQTT_Option/notebook/jl_notebook_cell_df34fa98e69747e1a8f8a730347b8e2f_X25sZmlsZQ==.jl:6"
     ]
    }
   ],
   "source": [
    "plot_v = plot(\n",
    "    #collect(Int(trunc(N/100)):Int(trunc(N/100)):N),\n",
    "    real.(v_pre.(smpl_indices_v))\n",
    ")\n",
    "\n",
    "plot!(\n",
    "    plot_v,\n",
    "    #collect(Int(trunc(N/100)):Int(trunc(N/100)):N),\n",
    "    real.(evaluate_options_(smpl_indices_v, M1)[1])\n",
    ")"
   ]
  },
  {
   "cell_type": "code",
   "execution_count": 19,
   "metadata": {},
   "outputs": [
    {
     "ename": "UndefVarError",
     "evalue": "UndefVarError: `qo` not defined",
     "output_type": "error",
     "traceback": [
      "UndefVarError: `qo` not defined\n",
      "\n",
      "Stacktrace:\n",
      " [1] macro expansion\n",
      "   @ ~/Library/Mobile Documents/com~apple~CloudDocs/4年前期/finance/TTvsQTT_Option/notebook/jl_notebook_cell_df34fa98e69747e1a8f8a730347b8e2f_X12sZmlsZQ==.jl:7 [inlined]\n",
      " [2] macro expansion\n",
      "   @ ./timing.jl:395 [inlined]\n",
      " [3] evaluate_options_(random_combinations::Vector{Any}, tt_option::Vector{Array{ComplexF64, 3}})\n",
      "   @ Main ~/Library/Mobile Documents/com~apple~CloudDocs/4年前期/finance/TTvsQTT_Option/notebook/jl_notebook_cell_df34fa98e69747e1a8f8a730347b8e2f_X12sZmlsZQ==.jl:6\n",
      " [4] top-level scope\n",
      "   @ ~/Library/Mobile Documents/com~apple~CloudDocs/4年前期/finance/TTvsQTT_Option/notebook/jl_notebook_cell_df34fa98e69747e1a8f8a730347b8e2f_X26sZmlsZQ==.jl:1"
     ]
    }
   ],
   "source": [
    "plot(\n",
    "    #collect(Int(trunc(N/100)):Int(trunc(N/100)):N),\n",
    "    real.(v_pre.(smpl_indices_v)) .- real.(evaluate_options_(smpl_indices_v, M1)[1])\n",
    ")"
   ]
  },
  {
   "cell_type": "code",
   "execution_count": 20,
   "metadata": {},
   "outputs": [
    {
     "ename": "UndefVarError",
     "evalue": "UndefVarError: `qo` not defined",
     "output_type": "error",
     "traceback": [
      "UndefVarError: `qo` not defined\n",
      "\n",
      "Stacktrace:\n",
      " [1] macro expansion\n",
      "   @ ~/Library/Mobile Documents/com~apple~CloudDocs/4年前期/finance/TTvsQTT_Option/notebook/jl_notebook_cell_df34fa98e69747e1a8f8a730347b8e2f_X12sZmlsZQ==.jl:7 [inlined]\n",
      " [2] macro expansion\n",
      "   @ ./timing.jl:395 [inlined]\n",
      " [3] evaluate_options_(random_combinations::Vector{Any}, tt_option::Vector{Array{ComplexF64, 3}})\n",
      "   @ Main ~/Library/Mobile Documents/com~apple~CloudDocs/4年前期/finance/TTvsQTT_Option/notebook/jl_notebook_cell_df34fa98e69747e1a8f8a730347b8e2f_X12sZmlsZQ==.jl:6\n",
      " [4] top-level scope\n",
      "   @ ~/Library/Mobile Documents/com~apple~CloudDocs/4年前期/finance/TTvsQTT_Option/notebook/jl_notebook_cell_df34fa98e69747e1a8f8a730347b8e2f_X30sZmlsZQ==.jl:7"
     ]
    }
   ],
   "source": [
    "plot_q = plot(\n",
    "    #yscale = :log10,\n",
    "    #collect(20:20:2000),\n",
    "    real.(q_pre.(smpl_indices_q))\n",
    ")\n",
    "\n",
    "plot!(\n",
    "    plot_q,\n",
    "    #collect(20:20:2000),\n",
    "    real.(evaluate_options_(smpl_indices_q, M2)[1])\n",
    ")"
   ]
  },
  {
   "cell_type": "code",
   "execution_count": 21,
   "metadata": {},
   "outputs": [
    {
     "ename": "UndefVarError",
     "evalue": "UndefVarError: `qo` not defined",
     "output_type": "error",
     "traceback": [
      "UndefVarError: `qo` not defined\n",
      "\n",
      "Stacktrace:\n",
      " [1] macro expansion\n",
      "   @ ~/Library/Mobile Documents/com~apple~CloudDocs/4年前期/finance/TTvsQTT_Option/notebook/jl_notebook_cell_df34fa98e69747e1a8f8a730347b8e2f_X12sZmlsZQ==.jl:7 [inlined]\n",
      " [2] macro expansion\n",
      "   @ ./timing.jl:395 [inlined]\n",
      " [3] evaluate_options_(random_combinations::Vector{Any}, tt_option::Vector{Array{ComplexF64, 3}})\n",
      "   @ Main ~/Library/Mobile Documents/com~apple~CloudDocs/4年前期/finance/TTvsQTT_Option/notebook/jl_notebook_cell_df34fa98e69747e1a8f8a730347b8e2f_X12sZmlsZQ==.jl:6\n",
      " [4] top-level scope\n",
      "   @ ~/Library/Mobile Documents/com~apple~CloudDocs/4年前期/finance/TTvsQTT_Option/notebook/jl_notebook_cell_df34fa98e69747e1a8f8a730347b8e2f_X31sZmlsZQ==.jl:1"
     ]
    }
   ],
   "source": [
    "plot(\n",
    "    collect(20:20:2000),\n",
    "    real.(q_pre.(smpl_indices_q)) .-  real.(evaluate_options_(smpl_indices_q, M2)[1])\n",
    ")"
   ]
  },
  {
   "cell_type": "code",
   "execution_count": 22,
   "metadata": {},
   "outputs": [
    {
     "ename": "UndefVarError",
     "evalue": "UndefVarError: `qo` not defined",
     "output_type": "error",
     "traceback": [
      "UndefVarError: `qo` not defined\n",
      "\n",
      "Stacktrace:\n",
      " [1] top-level scope\n",
      "   @ ~/Library/Mobile Documents/com~apple~CloudDocs/4年前期/finance/TTvsQTT_Option/notebook/jl_notebook_cell_df34fa98e69747e1a8f8a730347b8e2f_X32sZmlsZQ==.jl:2"
     ]
    }
   ],
   "source": [
    "num_samples = 100\n",
    "random_combinations = qo.generate_random_combinations(N, d, num_samples)\n",
    ";"
   ]
  },
  {
   "cell_type": "code",
   "execution_count": 23,
   "metadata": {},
   "outputs": [],
   "source": [
    "indices = []\n",
    "for i in 1:N\n",
    "    for j in 1:N\n",
    "        push!(indices, [i, j])\n",
    "    end\n",
    "end"
   ]
  },
  {
   "cell_type": "code",
   "execution_count": 24,
   "metadata": {},
   "outputs": [
    {
     "ename": "UndefVarError",
     "evalue": "UndefVarError: `qo` not defined",
     "output_type": "error",
     "traceback": [
      "UndefVarError: `qo` not defined\n",
      "\n",
      "Stacktrace:\n",
      " [1] macro expansion\n",
      "   @ ~/Library/Mobile Documents/com~apple~CloudDocs/4年前期/finance/TTvsQTT_Option/notebook/jl_notebook_cell_df34fa98e69747e1a8f8a730347b8e2f_X12sZmlsZQ==.jl:7 [inlined]\n",
      " [2] macro expansion\n",
      "   @ ./timing.jl:395 [inlined]\n",
      " [3] evaluate_options_(random_combinations::Vector{Any}, tt_option::Vector{Array{ComplexF64, 3}})\n",
      "   @ Main ~/Library/Mobile Documents/com~apple~CloudDocs/4年前期/finance/TTvsQTT_Option/notebook/jl_notebook_cell_df34fa98e69747e1a8f8a730347b8e2f_X12sZmlsZQ==.jl:6\n",
      " [4] macro expansion\n",
      "   @ show.jl:1181 [inlined]\n",
      " [5] top-level scope\n",
      "   @ ~/Library/Mobile Documents/com~apple~CloudDocs/4年前期/finance/TTvsQTT_Option/notebook/jl_notebook_cell_df34fa98e69747e1a8f8a730347b8e2f_X34sZmlsZQ==.jl:1"
     ]
    }
   ],
   "source": [
    "@show maximum(real.(v_pre.(indices)) .- real.(evaluate_options_(indices, M1)[1]))\n",
    "@show maximum(real.(q_pre.(indices)) .- real.(evaluate_options_(indices, M2)[1]))"
   ]
  },
  {
   "cell_type": "markdown",
   "metadata": {},
   "source": [
    "$$\n",
    "V(\\vec{p})=\\mathbb{E}\\left[e^{-rT}v(\\vec{S}(T))\\middle|\\vec{S}_0\\right]=e^{-rT} \\int_{-\\infty}^{\\infty} v(\\exp(\\vec{x}))q(\\vec{x}|\\vec{x}_0)dx\n",
    "$$"
   ]
  },
  {
   "cell_type": "code",
   "execution_count": 25,
   "metadata": {},
   "outputs": [
    {
     "data": {
      "text/plain": [
       "create_AB (generic function with 1 method)"
      ]
     },
     "metadata": {},
     "output_type": "display_data"
    }
   ],
   "source": [
    "function create_AB(A::Array{ComplexF64,3}, B::Array{ComplexF64,3})\n",
    "    # A_{i j k}\n",
    "    # B_{l j m}\n",
    "    dim_i, dim_j_A, dim_k = size(A)\n",
    "    dim_l, dim_j_B, dim_m = size(B)\n",
    "    @assert dim_j_A == dim_j_B \"物理次元（j）が一致しません\"\n",
    "\n",
    "    # 縮約後のテンソルAB_{i l k m}を作成\n",
    "    AB = zeros(ComplexF64, dim_i, dim_l, dim_k, dim_m)\n",
    "    for j in 1:dim_j_A\n",
    "        for i in 1:dim_i\n",
    "            for l in 1:dim_l\n",
    "                for k in 1:dim_k\n",
    "                    for m in 1:dim_m\n",
    "                        AB[i, l, k, m] += A[i, j, k] * B[l, j, m]\n",
    "                    end\n",
    "                end\n",
    "            end\n",
    "        end\n",
    "    end\n",
    "\n",
    "    # インデックスの結合： (i, l) -> x1, (k, m) -> x2\n",
    "    #dim_x1 = dim_i * dim_l\n",
    "    #dim_x2 = dim_k * dim_m\n",
    "    #AB_matrix = reshape(AB, dim_x1, dim_x2)\n",
    "\n",
    "    #return AB_matrix\n",
    "    return AB\n",
    "end\n"
   ]
  },
  {
   "cell_type": "code",
   "execution_count": 26,
   "metadata": {},
   "outputs": [
    {
     "data": {
      "text/plain": [
       "mps_inner_product_custom (generic function with 1 method)"
      ]
     },
     "metadata": {},
     "output_type": "display_data"
    }
   ],
   "source": [
    "function mps_inner_product_custom(M1::Vector{Array{ComplexF64,3}}, M2::Vector{Array{ComplexF64,3}})\n",
    "    N = length(M1)\n",
    "    @assert length(M2) == N \"MPSの長さが一致しません\"\n",
    "\n",
    "    # 初期化\n",
    "    M = nothing\n",
    "    R = 0.0\n",
    "\n",
    "    for i in 1:N\n",
    "        A = M1[i]\n",
    "        B = M2[i]\n",
    "        AB = create_AB(A, B)\n",
    "\n",
    "        dim_i, dim_l, dim_k, dim_m = size(AB)\n",
    "\n",
    "        if M === nothing\n",
    "            M = AB\n",
    "        else\n",
    "            min_dim_k = min(size(M, 3), size(AB, 1))\n",
    "            min_dim_m = min(size(M, 4), size(AB, 2))\n",
    "\n",
    "            for k in 1:min_dim_k\n",
    "                for m in 1:min_dim_m\n",
    "                    for o in 1:size(AB, 3)\n",
    "                        for p in 1:size(AB, 4)\n",
    "                            R += M[1, 1, k, m] * AB[k, m, o, p]\n",
    "                        end\n",
    "                    end\n",
    "                end\n",
    "            end\n",
    "        end\n",
    "    end\n",
    "\n",
    "    @show R\n",
    "    return R\n",
    "end\n"
   ]
  },
  {
   "cell_type": "code",
   "execution_count": 27,
   "metadata": {},
   "outputs": [
    {
     "name": "stdout",
     "output_type": "stream",
     "text": [
      "R = 1423.5148787401486 + 0.0im\n"
     ]
    },
    {
     "data": {
      "text/plain": [
       "1423.5148787401486 + 0.0im"
      ]
     },
     "metadata": {},
     "output_type": "display_data"
    }
   ],
   "source": [
    "inner_product = mps_inner_product_custom(M1, M2)"
   ]
  },
  {
   "cell_type": "code",
   "execution_count": 28,
   "metadata": {},
   "outputs": [
    {
     "data": {
      "text/plain": [
       "0.17616883362951893 + 0.0im"
      ]
     },
     "metadata": {},
     "output_type": "display_data"
    }
   ],
   "source": [
    "res = inner_product * exp(- r * T) * (cut^d)"
   ]
  },
  {
   "cell_type": "code",
   "execution_count": 29,
   "metadata": {},
   "outputs": [
    {
     "data": {
      "text/plain": [
       "3.344541197233318"
      ]
     },
     "metadata": {},
     "output_type": "display_data"
    }
   ],
   "source": [
    "ref = 3.344541197233318"
   ]
  },
  {
   "cell_type": "code",
   "execution_count": 30,
   "metadata": {},
   "outputs": [
    {
     "data": {
      "text/plain": [
       "3.1683723636037993"
      ]
     },
     "metadata": {},
     "output_type": "display_data"
    }
   ],
   "source": [
    "real(ref - res)"
   ]
  },
  {
   "cell_type": "code",
   "execution_count": 31,
   "metadata": {},
   "outputs": [
    {
     "data": {
      "text/plain": [
       "0.0012151027433864314"
      ]
     },
     "metadata": {},
     "output_type": "display_data"
    }
   ],
   "source": [
    "0.0003000939635962041\n",
    "0.0012151027433864314"
   ]
  },
  {
   "cell_type": "code",
   "execution_count": 32,
   "metadata": {},
   "outputs": [
    {
     "data": {
      "text/plain": [
       "0.9473264572805233"
      ]
     },
     "metadata": {},
     "output_type": "display_data"
    }
   ],
   "source": [
    "real(ref - res) / ref"
   ]
  },
  {
   "cell_type": "code",
   "execution_count": 33,
   "metadata": {},
   "outputs": [],
   "source": []
  },
  {
   "cell_type": "code",
   "execution_count": 34,
   "metadata": {},
   "outputs": [],
   "source": []
  }
 ],
 "metadata": {
  "kernelspec": {
   "display_name": "Julia 1.10.2",
   "language": "julia",
   "name": "julia-1.10"
  },
  "language_info": {
   "file_extension": ".jl",
   "mimetype": "application/julia",
   "name": "julia",
   "version": "1.10.2"
  }
 },
 "nbformat": 4,
 "nbformat_minor": 2
}
