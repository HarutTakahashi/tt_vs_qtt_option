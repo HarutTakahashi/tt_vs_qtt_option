{
 "cells": [
  {
   "cell_type": "code",
   "execution_count": null,
   "metadata": {},
   "outputs": [],
   "source": [
    "using PyCall\n",
    "using Statistics\n",
    "using LinearAlgebra\n",
    "using Random\n",
    ";"
   ]
  },
  {
   "cell_type": "code",
   "execution_count": 59,
   "metadata": {},
   "outputs": [],
   "source": [
    "# PyCallを用いてPythonのライブラリをインポート\n",
    "np = pyimport(\"numpy\")\n",
    "@pyimport tensorflow \n",
    "@pyimport tf_quant_finance as tff"
   ]
  },
  {
   "cell_type": "code",
   "execution_count": 60,
   "metadata": {},
   "outputs": [
    {
     "data": {
      "text/plain": [
       "generate_random_combinations (generic function with 1 method)"
      ]
     },
     "metadata": {},
     "output_type": "display_data"
    }
   ],
   "source": [
    "function generate_random_combinations(len, d, num_samples)\n",
    "    Random.seed!(100)\n",
    "\n",
    "    possible_values = collect(1:len)\n",
    "    random_combinations = Vector{Int}[]\n",
    "    \n",
    "    for _ in 1:num_samples\n",
    "        combination = rand(possible_values, d)\n",
    "        push!(random_combinations, combination)\n",
    "    end\n",
    "    \n",
    "    return random_combinations\n",
    "end"
   ]
  },
  {
   "cell_type": "code",
   "execution_count": 61,
   "metadata": {},
   "outputs": [],
   "source": [
    "# オプション満期\n",
    "T = 1.0\n",
    "# 無リスク金利\n",
    "r = 0.01\n",
    "# strike\n",
    "K = 100.0\n",
    "# 原資産数\n",
    "d = 5\n",
    "# 原資産価格初期値\n",
    "#S0 = [100.0] * d\n",
    "# stock0 = collect(90.0:0.3:119.7)\n",
    "stock0 = collect(70.0:1.3:198.7)\n",
    "# ボラティリティ\n",
    "#vols = [0.5] * d\n",
    "vols = fill(0.5, d)\n",
    "# 相関行列\n",
    "corrMat = Matrix{Float64}(I, d, d)\n",
    "for i in 1:d\n",
    "    for j in 1:d\n",
    "        if i != j\n",
    "            #corrMat[i, j] = 1/3\n",
    "            corrMat[i, j] = 0.3\n",
    "        end\n",
    "    end\n",
    "end\n",
    "cut = 100\n",
    "localindex_v = [51 for _ in 1:d]\n",
    "#localindex_v = [47, 16, 12, 36, 62, 97, 22, 100, 63, 76, 54]\n",
    "#localindex_v = [cut for _ in 51:d]\n",
    "localindex_s = [72, 74, 86, 63, 79]\n",
    "#localindex_s = [80 for _ in 1:d]\n",
    "nPath = 1000000\n",
    "\n",
    "# パス数\n",
    "#nPath = 10000000\n",
    "σs = collect(0.15:0.001:0.249)\n",
    ";"
   ]
  },
  {
   "cell_type": "code",
   "execution_count": 62,
   "metadata": {},
   "outputs": [
    {
     "data": {
      "text/plain": [
       "calculate_option_price (generic function with 1 method)"
      ]
     },
     "metadata": {},
     "output_type": "display_data"
    }
   ],
   "source": [
    "function calculate_option_price(T::Float64, r::Float64, K::Float64, d::Int64, stock0::Vector{Float64}, localindex_v::Vector{Int64}, localindex_s::Vector{Int64}, nPath::Int64, σs::Vector{Float64}, corrMat)::Tuple{Float64, Float64}\n",
    "    vols = [σs[i] for i in localindex_v ]\n",
    "    #vols = fill(0.2, d)\n",
    "    S0 = fill(100, d)\n",
    "    #S0 = [stock0[i] for i in localindex_s ]\n",
    "\n",
    "    process = tff.models.MultivariateGeometricBrownianMotion(\n",
    "        dim=d,\n",
    "        means=fill(r, d),\n",
    "        volatilities=vols,\n",
    "        corr_matrix=corrMat)\n",
    "    \n",
    "    paths = process.sample_paths(\n",
    "        times=[T],\n",
    "        initial_state=S0,\n",
    "        random_type=tff.math.random.RandomType.PSEUDO,\n",
    "        num_samples=nPath).numpy()\n",
    "\n",
    "    \n",
    "    payoffs = max.(minimum(paths[:, 1, :], dims=2) .- K, 0.0)\n",
    "    #payoffs = vec(payoffs)  # 配列をベクトルに変換\n",
    "    mean_pv = exp(-r * T) * mean(payoffs)\n",
    "    std_pv = exp(-r * T) * std(payoffs)\n",
    "    #pv = exp(-r * T) * mean(max.(minimum(paths[:, 1, :], dims=2) .- K, 0.0))\n",
    "    return (mean_pv, std_pv)\n",
    "    return pv\n",
    "\n",
    "end"
   ]
  },
  {
   "cell_type": "code",
   "execution_count": 63,
   "metadata": {},
   "outputs": [
    {
     "name": "stdout",
     "output_type": "stream",
     "text": [
      "Present Value: 0.6813049243049988\n",
      "Standard Deviation: 2.9354292639336634\n"
     ]
    }
   ],
   "source": [
    "# オプション価格の計算\n",
    "mean_pv, std_pv = calculate_option_price(T, r, K, d, stock0, localindex_v, localindex_s, nPath, σs, corrMat)\n",
    "println(\"Present Value: \", mean_pv)\n",
    "println(\"Standard Deviation: \", std_pv)\n",
    "#pv = calculate_option_price(T, r, K, d, S0, localindex, nPath, σs, corrMat)\n",
    "#println(pv)\n",
    ";"
   ]
  },
  {
   "cell_type": "code",
   "execution_count": 64,
   "metadata": {},
   "outputs": [
    {
     "name": "stdout",
     "output_type": "stream",
     "text": [
      "真の値: 34.53644785048398\n"
     ]
    }
   ],
   "source": [
    "true_value = 34.53644785048398\n",
    "println(\"真の値: \", true_value)\n",
    ";"
   ]
  },
  {
   "cell_type": "code",
   "execution_count": 65,
   "metadata": {},
   "outputs": [
    {
     "name": "stdout",
     "output_type": "stream",
     "text": [
      "CI: 0.00575344135730998\n",
      "Present Value + CI: 0.6870583656623087\n",
      "Present Value - CI: 0.6755514829476889\n",
      "mean_pv + CI = 0.6870583656623087\n",
      "mean_pv - CI = 0.6755514829476889\n"
     ]
    }
   ],
   "source": [
    "SE = std_pv/sqrt(nPath)\n",
    "CI = 1.96 * std_pv/sqrt(nPath)\n",
    "#@show 1.96 * SE\n",
    "#println(\"絶対誤差の指標の代わり=\", 2 * 1.96 * SE) \n",
    "println(\"CI: \", CI) \n",
    "println(\"Present Value + CI: \", mean_pv + CI) \n",
    "println(\"Present Value - CI: \", mean_pv - CI) \n",
    "@show mean_pv + CI #　信頼区間\n",
    "@show mean_pv - CI # 信頼区間\n",
    ";"
   ]
  },
  {
   "cell_type": "code",
   "execution_count": 66,
   "metadata": {},
   "outputs": [
    {
     "name": "stdout",
     "output_type": "stream",
     "text": [
      "相対誤差の指標の代わり=CI / 真の値\n",
      "相対誤差: 0.980272872089958\n",
      "CI / 真の値: 0.00016659042013289602\n",
      "相対誤差 + CI/真の値: 0.9804394625100908\n"
     ]
    }
   ],
   "source": [
    "println(\"相対誤差の指標の代わり=CI / 真の値\") \n",
    "rel = abs(mean_pv - true_value) / true_value\n",
    "println(\"相対誤差: \", rel)\n",
    "s_rel = CI / true_value\n",
    "println(\"CI / 真の値: \", s_rel)\n",
    "println(\"相対誤差 + CI/真の値: \", rel + s_rel)\n",
    ";"
   ]
  },
  {
   "cell_type": "code",
   "execution_count": 67,
   "metadata": {},
   "outputs": [
    {
     "name": "stdout",
     "output_type": "stream",
     "text": [
      "time_mc / 20 = 0.5847140975\n"
     ]
    },
    {
     "data": {
      "text/plain": [
       "0.5847140975"
      ]
     },
     "metadata": {},
     "output_type": "display_data"
    }
   ],
   "source": [
    "time_mc = @elapsed begin\n",
    "   for i in 1:20\n",
    "       mean_pv, std_pv = calculate_option_price(T, r, K, d, stock0, localindex_v, localindex_s, nPath, σs, corrMat)\n",
    "   end\n",
    "end\n",
    "\n",
    "@show time_mc / 20"
   ]
  },
  {
   "cell_type": "code",
   "execution_count": 68,
   "metadata": {},
   "outputs": [],
   "source": [
    "# pv = 1.3885828365963908\n",
    "\n",
    "# sigma = 0.01879949670107938  #nPath = 1e5\n",
    "# sigma = 0.005973520418390066 #nPath = 1e6"
   ]
  },
  {
   "cell_type": "code",
   "execution_count": 69,
   "metadata": {},
   "outputs": [],
   "source": [
    "# pv = 0.1455493754265649\n",
    "\n",
    "# sigma = 0.04713544576157798  #nPath = 1e5\n",
    "# sigma = 0.01565396335528381  #nPath = 1e6"
   ]
  },
  {
   "cell_type": "code",
   "execution_count": 70,
   "metadata": {},
   "outputs": [],
   "source": [
    "len = 100\n",
    "num_samples = 100\n",
    "combinations = generate_random_combinations(len, d, num_samples)\n",
    ";"
   ]
  },
  {
   "cell_type": "code",
   "execution_count": 71,
   "metadata": {},
   "outputs": [],
   "source": [
    "mean_pvs = []\n",
    "CIs = []\n",
    ";"
   ]
  },
  {
   "cell_type": "code",
   "execution_count": 72,
   "metadata": {},
   "outputs": [
    {
     "name": "stdout",
     "output_type": "stream",
     "text": [
      "inds_ = [13, 18, 59, 92, 5]\n",
      "inds_ = [29, 87, 85, 51, 3]\n",
      "inds_ = [73, 51, 32, 35, 24]\n",
      "inds_ = [59, 88, 18, 69, 38]\n",
      "inds_ = [72, 29, 65, 19, 58]\n",
      "inds_ = [74, 20, 86, 62, 45]\n",
      "inds_ = [65, 42, 57, 13, 23]\n",
      "inds_ = [26, 31, 39, 25, 97]\n",
      "inds_ = [61, 91, 28, 23, 82]\n",
      "inds_ = [36, 18, 53, 18, 39]\n",
      "inds_ = [62, 14, 67, 6, 52]\n",
      "inds_ = [53, 15, 85, 18, 81]\n",
      "inds_ = [8, 35, 31, 32, 61]\n",
      "inds_ = [93, 61, 49, 7, 35]\n",
      "inds_ = [53, 49, 50, 64, 98]\n",
      "inds_ = [84, 38, 73, 7, 18]\n",
      "inds_ = [8, 97, 70, 45, 4]\n",
      "inds_ = [99, 63, 27, 60, 7]\n",
      "inds_ = [67, 93, 29, 5, 80]\n",
      "inds_ = [33, 45, 50, 11, 65]\n",
      "inds_ = [46, 46, 94, 18, 99]\n",
      "inds_ = [65, 52, 44, 56, 72]\n",
      "inds_ = [93, 54, 91, 30, 63]\n",
      "inds_ = [62, 29, 45, 20, 13]\n",
      "inds_ = [34, 35, 43, 97, 56]\n",
      "inds_ = [69, 53, 1, 61, 40]\n",
      "inds_ = [25, 43, 17, 81, 6]\n",
      "inds_ = [67, 75, 60, 45, 33]\n",
      "inds_ = [21, 15, 37, 43, 3]\n",
      "inds_ = [74, 86, 70, 54, 68]\n",
      "inds_ = [40, 74, 31, 17, 66]\n",
      "inds_ = [81, 2, 14, 80, 38]\n",
      "inds_ = [85, 4, 91, 57, 31]\n",
      "inds_ = [92, 86, 78, 80, 22]\n",
      "inds_ = [39, 83, 51, 21, 53]\n",
      "inds_ = [73, 89, 2, 37, 43]\n",
      "inds_ = [80, 39, 42, 74, 31]\n",
      "inds_ = [53, 57, 98, 85, 62]\n",
      "inds_ = [66, 57, 42, 98, 30]\n",
      "inds_ = [34, 100, 74, 23, 87]\n",
      "inds_ = [73, 37, 26, 98, 21]\n",
      "inds_ = [35, 63, 38, 76, 54]\n",
      "inds_ = [75, 8, 15, 2, 5]\n",
      "inds_ = [47, 13, 77, 49, 100]\n",
      "inds_ = [2, 46, 86, 1, 27]\n",
      "inds_ = [17, 14, 97, 89, 63]\n",
      "inds_ = [6, 97, 56, 85, 91]\n",
      "inds_ = [72, 74, 86, 63, 79]\n",
      "inds_ = [8, 51, 55, 9, 44]\n",
      "inds_ = [41, 31, 26, 75, 79]\n",
      "inds_ = [19, 24, 21, 12, 55]\n",
      "inds_ = [53, 48, 62, 70, 44]\n",
      "inds_ = [23, 29, 78, 82, 74]\n",
      "inds_ = [3, 78, 3, 24, 62]\n",
      "inds_ = [80, 35, 65, 68, 83]\n",
      "inds_ = [32, 29, 31, 98, 20]\n",
      "inds_ = [6, 19, 62, 49, 93]\n",
      "inds_ = [21, 50, 98, 28, 60]\n",
      "inds_ = [55, 16, 99, 25, 32]\n",
      "inds_ = [70, 41, 60, 39, 31]\n",
      "inds_ = [65, 6, 81, 29, 37]\n",
      "inds_ = [98, 69, 74, 93, 4]\n",
      "inds_ = [23, 86, 19, 81, 63]\n",
      "inds_ = [28, 8, 79, 45, 28]\n",
      "inds_ = [4, 28, 56, 48, 15]\n",
      "inds_ = [45, 8, 18, 42, 30]\n",
      "inds_ = [38, 77, 24, 46, 8]\n",
      "inds_ = [9, 10, 81, 87, 13]\n",
      "inds_ = [31, 26, 22, 66, 38]\n",
      "inds_ = [39, 38, 5, 91, 31]\n",
      "inds_ = [95, 6, 72, 24, 7]\n",
      "inds_ = [89, 2, 97, 69, 24]\n",
      "inds_ = [92, 65, 16, 9, 23]\n",
      "inds_ = [97, 61, 1, 29, 89]\n",
      "inds_ = [45, 26, 71, 37, 67]\n",
      "inds_ = [30, 90, 82, 45, 88]\n",
      "inds_ = [29, 6, 92, 36, 67]\n",
      "inds_ = [94, 5, 31, 57, 85]\n",
      "inds_ = [66, 63, 22, 91, 59]\n",
      "inds_ = [21, 47, 16, 12, 36]\n",
      "inds_ = [62, 97, 22, 100, 63]\n",
      "inds_ = [76, 54, 6, 10, 40]\n",
      "inds_ = [79, 66, 54, 76, 62]\n",
      "inds_ = [56, 71, 32, 95, 76]\n",
      "inds_ = [96, 58, 31, 36, 66]\n",
      "inds_ = [12, 79, 81, 71, 79]\n",
      "inds_ = [83, 11, 88, 74, 21]\n",
      "inds_ = [55, 79, 29, 98, 72]\n",
      "inds_ = [61, 17, 8, 36, 22]\n",
      "inds_ = [75, 5, 69, 27, 74]\n",
      "inds_ = [48, 8, 89, 64, 93]\n",
      "inds_ = [19, 69, 62, 86, 10]\n",
      "inds_ = [56, 94, 100, 91, 9]\n",
      "inds_ = [69, 13, 91, 87, 51]\n",
      "inds_ = [88, 8, 89, 69, 75]\n",
      "inds_ = [77, 71, 13, 69, 78]\n",
      "inds_ = [14, 7, 86, 18, 13]\n",
      "inds_ = [27, 47, 22, 18, 57]\n",
      "inds_ = [44, 27, 28, 14, 32]\n",
      "inds_ = [52, 33, 29, 25, 79]\n"
     ]
    }
   ],
   "source": [
    "for inds_ in combinations\n",
    "    @show inds_\n",
    "    mean_pv, std_pv = calculate_option_price(T, r, K, d, stock0, inds_, inds_, nPath, σs, corrMat)\n",
    "    push!(mean_pvs, mean_pv)\n",
    "    CI = 1.96 * std_pv/sqrt(nPath)\n",
    "    push!(CIs, CI)\n",
    "end"
   ]
  },
  {
   "cell_type": "code",
   "execution_count": 73,
   "metadata": {},
   "outputs": [
    {
     "data": {
      "text/plain": [
       "0.0063033018496348805"
      ]
     },
     "metadata": {},
     "output_type": "display_data"
    }
   ],
   "source": [
    "maximum(CIs)"
   ]
  },
  {
   "cell_type": "code",
   "execution_count": 74,
   "metadata": {},
   "outputs": [
    {
     "data": {
      "text/plain": [
       "0.005570825622200468"
      ]
     },
     "metadata": {},
     "output_type": "display_data"
    }
   ],
   "source": [
    "mean(CIs)"
   ]
  },
  {
   "cell_type": "code",
   "execution_count": 75,
   "metadata": {},
   "outputs": [
    {
     "data": {
      "text/plain": [
       "100-element Vector{Any}:\n",
       " 0.6275836969957205\n",
       " 0.6517823392877111\n",
       " 0.6557419614407326\n",
       " 0.6773587356238542\n",
       " 0.6644162696113908\n",
       " 0.6785760466864937\n",
       " 0.6462729261888376\n",
       " 0.6448003825622093\n",
       " 0.6734568361733054\n",
       " 0.6359023025668945\n",
       " ⋮\n",
       " 0.6533193610211576\n",
       " 0.6906000508122578\n",
       " 0.6873980325308414\n",
       " 0.6939130965667286\n",
       " 0.6806595859049862\n",
       " 0.6070501571253296\n",
       " 0.6366623290327541\n",
       " 0.6280623587049065\n",
       " 0.6505165023971402"
      ]
     },
     "metadata": {},
     "output_type": "display_data"
    }
   ],
   "source": [
    "mean_pvs"
   ]
  },
  {
   "cell_type": "code",
   "execution_count": 76,
   "metadata": {},
   "outputs": [],
   "source": []
  }
 ],
 "metadata": {
  "kernelspec": {
   "display_name": "Julia 1.10.2",
   "language": "julia",
   "name": "julia-1.10"
  },
  "language_info": {
   "file_extension": ".jl",
   "mimetype": "application/julia",
   "name": "julia",
   "version": "1.10.2"
  }
 },
 "nbformat": 4,
 "nbformat_minor": 2
}
