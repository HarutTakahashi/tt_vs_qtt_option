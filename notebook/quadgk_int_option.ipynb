{
 "cells": [
  {
   "cell_type": "code",
   "execution_count": 31,
   "metadata": {},
   "outputs": [],
   "source": [
    "using Statistics\n",
    "using LinearAlgebra\n",
    "using Random\n",
    "using Plots\n",
    "using QuadGK\n",
    "using LaTeXStrings"
   ]
  },
  {
   "cell_type": "code",
   "execution_count": 32,
   "metadata": {},
   "outputs": [
    {
     "data": {
      "text/plain": [
       "def_nonDiag (generic function with 1 method)"
      ]
     },
     "metadata": {},
     "output_type": "display_data"
    }
   ],
   "source": [
    "function def_nonDiag(d, mtr::Matrix{Float64}, nondiag::Float64)\n",
    "    for i in 1:d, j in 1:d\n",
    "        if i != j\n",
    "            mtr[i, j] = nondiag\n",
    "        end\n",
    "    end\n",
    "    return mtr\n",
    "end"
   ]
  },
  {
   "cell_type": "markdown",
   "metadata": {},
   "source": [
    "$$\n",
    "v(\\vec{S}(T)) = \\max \\Bigl\\lbrace \\min \\lbrace S^1_T, \\ldots, S^d_T \\rbrace - K, 0 \\Bigl\\rbrace\n",
    "$$"
   ]
  },
  {
   "cell_type": "code",
   "execution_count": 33,
   "metadata": {},
   "outputs": [],
   "source": [
    "function payoff_v(x::Vector{Float64}, K::Float64)\n",
    "    return maximum([(minimum(exp.(x)) - K), 0.0])\n",
    "end\n",
    ";"
   ]
  },
  {
   "cell_type": "markdown",
   "metadata": {},
   "source": [
    "$$\n",
    "q(\\vec{x}|\\vec{x}_0) = \\frac{1}{\\sqrt{(2 \\pi)^d \\det \\Sigma}} \\exp\\left(-\\frac{1}{2}\\left(\\vec{x}-\\vec{\\mu}\\right)^T \\Sigma^{-1} \\left(\\vec{x}-\\vec{\\mu}\\right)\\right)\n",
    "$$\n",
    "\n",
    "$$\n",
    "\\mu_j = x_0^j+r_j T-\\frac{1}{2} \\sigma_j^2 \\Sigma_{j j} T \n",
    "$$"
   ]
  },
  {
   "cell_type": "code",
   "execution_count": 34,
   "metadata": {},
   "outputs": [
    {
     "data": {
      "text/plain": [
       "normal_dstrb_q (generic function with 1 method)"
      ]
     },
     "metadata": {},
     "output_type": "display_data"
    }
   ],
   "source": [
    "function normal_dstrb_q(d::Int, x::Vector{Float64}, x0::Vector{Float64}, σ::Vector{Float64}, Σ::Matrix{Float64}, T::Float64, r::Float64)\n",
    "    #μ = [x0[i] + r * T - σ[i]^2 * Σ[i,i] * T / 2 for i in 1:d]\n",
    "    μ = [x0[i] + r * T - Σ[i,i] * T / 2 for i in 1:d]\n",
    "    mtrx = transpose(x .- μ) * inv(Σ) * (x .- μ)\n",
    "    \n",
    "    return exp(-mtrx/2)/sqrt((2*π)^d * det(Σ))\n",
    "end"
   ]
  },
  {
   "cell_type": "code",
   "execution_count": 35,
   "metadata": {},
   "outputs": [
    {
     "data": {
      "text/plain": [
       "func (generic function with 1 method)"
      ]
     },
     "metadata": {},
     "output_type": "display_data"
    }
   ],
   "source": [
    "function func(idxs::Vector{Int}, f::Function, N::Int, cut::Float64, slice::Float64)\n",
    "    return f( cut .* ( idxs ) .+ slice )\n",
    "end"
   ]
  },
  {
   "cell_type": "code",
   "execution_count": 36,
   "metadata": {},
   "outputs": [
    {
     "data": {
      "text/plain": [
       "2×2 Matrix{Float64}:\n",
       " 0.04       0.0133333\n",
       " 0.0133333  0.04"
      ]
     },
     "metadata": {},
     "output_type": "display_data"
    }
   ],
   "source": [
    "d = 2\n",
    "T = 1.0\n",
    "r = 0.01\n",
    "K = 100.0\n",
    "s0 = fill(100.0, d)\n",
    "x0 = log.(s0)\n",
    "σ = fill(0.2, d)\n",
    "\n",
    "nondiag = 1/3\n",
    "Σ_ = def_nonDiag(d, Matrix{Float64}(I, d, d), nondiag)\n",
    "σ_ = Matrix{Float64}(I, d, d) .* σ\n",
    "Σ = σ_ * Σ_ * σ_"
   ]
  },
  {
   "cell_type": "code",
   "execution_count": 37,
   "metadata": {},
   "outputs": [
    {
     "data": {
      "text/plain": [
       "q (generic function with 1 method)"
      ]
     },
     "metadata": {},
     "output_type": "display_data"
    }
   ],
   "source": [
    "v(x) = payoff_v(x, K)\n",
    "q(x) = normal_dstrb_q(d, x, x0, σ, Σ, T, r)"
   ]
  },
  {
   "cell_type": "code",
   "execution_count": 38,
   "metadata": {},
   "outputs": [
    {
     "ename": "MethodError",
     "evalue": "MethodError: no method matching -(::Float64, ::Vector{Float64})\nFor element-wise subtraction, use broadcasting with dot syntax: scalar .- array\n\nClosest candidates are:\n  -(::Real, !Matched::Complex{Bool})\n   @ Base complex.jl:321\n  -(::Real, !Matched::Complex)\n   @ Base complex.jl:333\n  -(!Matched::SparseArrays.AbstractSparseMatrixCSC, ::Array)\n   @ SparseArrays /Applications/Julia-1.10.app/Contents/Resources/julia/share/julia/stdlib/v1.10/SparseArrays/src/sparsematrix.jl:2247\n  ...\n",
     "output_type": "error",
     "traceback": [
      "MethodError: no method matching -(::Float64, ::Vector{Float64})\n",
      "For element-wise subtraction, use broadcasting with dot syntax: scalar .- array\n",
      "\n",
      "Closest candidates are:\n",
      "  -(::Real, !Matched::Complex{Bool})\n",
      "   @ Base complex.jl:321\n",
      "  -(::Real, !Matched::Complex)\n",
      "   @ Base complex.jl:333\n",
      "  -(!Matched::SparseArrays.AbstractSparseMatrixCSC, ::Array)\n",
      "   @ SparseArrays /Applications/Julia-1.10.app/Contents/Resources/julia/share/julia/stdlib/v1.10/SparseArrays/src/sparsematrix.jl:2247\n",
      "  ...\n",
      "\n",
      "\n",
      "Stacktrace:\n",
      " [1] top-level scope\n",
      "   @ ~/Library/Mobile Documents/com~apple~CloudDocs/4年前期/finance/TTvsQTT_Option/notebook/jl_notebook_cell_df34fa98e69747e1a8f8a730347b8e2f_X12sZmlsZQ==.jl:7"
     ]
    }
   ],
   "source": [
    "# 被積分関数の定義 d=1\n",
    "function f(x)\n",
    "    return v([x]) * q([x])  # Example: x*y * exp(-x^2 - y^2)\n",
    "end\n",
    "\n",
    "# 積分区間の指定\n",
    "a = log(K) - 10 * σ * sqrt(T)   # 下限\n",
    "b = log(K) + 10 * σ * sqrt(T)    # 上限\n",
    "\n",
    "# 数値積分の実行\n",
    "result, error = quadgk(f, a, b)\n",
    "\n",
    "println(\"積分結果: \", result)\n",
    "println(\"推定誤差: \", error)"
   ]
  },
  {
   "cell_type": "code",
   "execution_count": 39,
   "metadata": {},
   "outputs": [
    {
     "ename": "UndefVarError",
     "evalue": "UndefVarError: `result` not defined",
     "output_type": "error",
     "traceback": [
      "UndefVarError: `result` not defined\n",
      "\n",
      "Stacktrace:\n",
      " [1] top-level scope\n",
      "   @ ~/Library/Mobile Documents/com~apple~CloudDocs/4年前期/finance/TTvsQTT_Option/notebook/jl_notebook_cell_df34fa98e69747e1a8f8a730347b8e2f_X13sZmlsZQ==.jl:1"
     ]
    }
   ],
   "source": [
    "res = result * exp(- r * T)"
   ]
  },
  {
   "cell_type": "code",
   "execution_count": 40,
   "metadata": {},
   "outputs": [
    {
     "data": {
      "text/plain": [
       "78.03287632270474"
      ]
     },
     "metadata": {},
     "output_type": "display_data"
    }
   ],
   "source": [
    "86.46619501281435 - 8.433318690109608"
   ]
  },
  {
   "cell_type": "code",
   "execution_count": 41,
   "metadata": {},
   "outputs": [
    {
     "name": "stdout",
     "output_type": "stream",
     "text": [
      "Integral result: 3.3770745186968596\n",
      "Estimated error: 4.603621238347125e-8\n"
     ]
    }
   ],
   "source": [
    "# Define a 2D function to integrate\n",
    "function f(x, y)\n",
    "    return v([x, y]) * q([x, y])  # Example: x*y * exp(-x^2 - y^2)\n",
    "end\n",
    "\n",
    "# Set the integration limits\n",
    "x_min, x_max = 0.0, 10.0\n",
    "y_min, y_max = 0.0, 10.0\n",
    "\n",
    "# Perform 2D integration using nested QuadGK\n",
    "result, error = quadgk(x -> quadgk(y -> f(x, y), y_min, y_max)[1], x_min, x_max)\n",
    "\n",
    "# Output the result\n",
    "println(\"Integral result: \", result)\n",
    "println(\"Estimated error: \", error)"
   ]
  },
  {
   "cell_type": "code",
   "execution_count": 42,
   "metadata": {},
   "outputs": [
    {
     "ename": "InterruptException",
     "evalue": "InterruptException:",
     "output_type": "error",
     "traceback": [
      "InterruptException:\n",
      "\n",
      "Stacktrace:\n",
      "  [1] (::QuadGK.var\"#50#51\"{Nothing, Nothing, Int64, Int64, typeof(norm), Nothing, Nothing})(f::Function, s::Tuple{Float64, Float64}, ::Function)\n",
      "    @ QuadGK ~/.julia/packages/QuadGK/7rND3/src/api.jl:83\n",
      "  [2] handle_infinities(workfunc::QuadGK.var\"#50#51\"{Nothing, Nothing, Int64, Int64, typeof(norm), Nothing, Nothing}, f::var\"#29#32\", s::Tuple{Float64, Float64})\n",
      "    @ QuadGK ~/.julia/packages/QuadGK/7rND3/src/adapt.jl:189\n",
      "  [3] quadgk(::var\"#29#32\", ::Float64, ::Vararg{Float64}; atol::Nothing, rtol::Nothing, maxevals::Int64, order::Int64, norm::Function, segbuf::Nothing, eval_segbuf::Nothing)\n",
      "    @ QuadGK ~/.julia/packages/QuadGK/7rND3/src/api.jl:82\n",
      "  [4] quadgk(::Function, ::Float64, ::Float64)\n",
      "    @ QuadGK ~/.julia/packages/QuadGK/7rND3/src/api.jl:80\n",
      "  [5] eval\n",
      "    @ ./boot.jl:385 [inlined]\n",
      "  [6] include_string(mapexpr::typeof(REPL.softscope), mod::Module, code::String, filename::String)\n",
      "    @ Base ./loading.jl:2076\n",
      "  [7] #invokelatest#2\n",
      "    @ ./essentials.jl:892 [inlined]\n",
      "  [8] invokelatest\n",
      "    @ ./essentials.jl:889 [inlined]\n",
      "  [9] (::VSCodeServer.var\"#217#218\"{VSCodeServer.NotebookRunCellArguments, String})()\n",
      "    @ VSCodeServer ~/.vscode/extensions/julialang.language-julia-1.140.2/scripts/packages/VSCodeServer/src/serve_notebook.jl:24\n",
      " [10] withpath(f::VSCodeServer.var\"#217#218\"{VSCodeServer.NotebookRunCellArguments, String}, path::String)\n",
      "    @ VSCodeServer ~/.vscode/extensions/julialang.language-julia-1.140.2/scripts/packages/VSCodeServer/src/repl.jl:276\n",
      " [11] notebook_runcell_request(conn::VSCodeServer.JSONRPC.JSONRPCEndpoint{Base.PipeEndpoint, Base.PipeEndpoint, VSCodeServer.JSON.Serializations.StandardSerialization}, params::VSCodeServer.NotebookRunCellArguments, token::VSCodeServer.CancellationTokens.CancellationToken)\n",
      "    @ VSCodeServer ~/.vscode/extensions/julialang.language-julia-1.140.2/scripts/packages/VSCodeServer/src/serve_notebook.jl:13\n",
      " [12] dispatch_msg(x::VSCodeServer.JSONRPC.JSONRPCEndpoint{Base.PipeEndpoint, Base.PipeEndpoint, VSCodeServer.JSON.Serializations.StandardSerialization}, dispatcher::VSCodeServer.JSONRPC.MsgDispatcher, msg::VSCodeServer.JSONRPC.Request)\n",
      "    @ VSCodeServer.JSONRPC ~/.vscode/extensions/julialang.language-julia-1.140.2/scripts/packages/JSONRPC/src/typed.jl:68\n",
      " [13] serve_notebook(pipename::String, debugger_pipename::String, outputchannel_logger::Base.CoreLogging.SimpleLogger; error_handler::var\"#5#10\"{String})\n",
      "    @ VSCodeServer ~/.vscode/extensions/julialang.language-julia-1.140.2/scripts/packages/VSCodeServer/src/serve_notebook.jl:147\n",
      " [14] top-level scope\n",
      "    @ ~/.vscode/extensions/julialang.language-julia-1.140.2/scripts/notebook/notebook.jl:35"
     ]
    }
   ],
   "source": [
    "# Define a 3D function to integrate\n",
    "function f(x, y, z)\n",
    "    return v([x, y, z]) * q([x, y, z])  # Example: x*y*z * exp(-x^2 - y^2 - z^2)\n",
    "end\n",
    "\n",
    "# Set the integration limits\n",
    "x_min, x_max = 0.0, 10.0\n",
    "y_min, y_max = 0.0, 10.0\n",
    "z_min, z_max = 0.0, 10.0\n",
    "\n",
    "# Perform 3D integration using nested QuadGK\n",
    "result, error = quadgk(x -> quadgk(y -> quadgk(z -> f(x, y, z), z_min, z_max)[1], y_min, y_max)[1], x_min, x_max)\n",
    "\n",
    "# Output the result\n",
    "println(\"Integral result: \", result)\n",
    "println(\"Estimated error: \", error)"
   ]
  },
  {
   "cell_type": "code",
   "execution_count": 43,
   "metadata": {},
   "outputs": [
    {
     "data": {
      "text/plain": [
       "3.3434720657943777"
      ]
     },
     "metadata": {},
     "output_type": "display_data"
    }
   ],
   "source": [
    "res = result * exp(- r * T)"
   ]
  },
  {
   "cell_type": "code",
   "execution_count": 44,
   "metadata": {},
   "outputs": [
    {
     "data": {
      "text/plain": [
       "28.340948795376008"
      ]
     },
     "metadata": {},
     "output_type": "display_data"
    }
   ],
   "source": [
    "28.340948795376008"
   ]
  },
  {
   "cell_type": "code",
   "execution_count": 45,
   "metadata": {},
   "outputs": [
    {
     "data": {
      "text/plain": [
       "-24.99747672958163"
      ]
     },
     "metadata": {},
     "output_type": "display_data"
    }
   ],
   "source": [
    "res - 28.340948795376008"
   ]
  },
  {
   "cell_type": "code",
   "execution_count": 46,
   "metadata": {},
   "outputs": [
    {
     "ename": "UndefVarError",
     "evalue": "UndefVarError: `N` not defined",
     "output_type": "error",
     "traceback": [
      "UndefVarError: `N` not defined\n",
      "\n",
      "Stacktrace:\n",
      " [1] top-level scope\n",
      "   @ ~/Library/Mobile Documents/com~apple~CloudDocs/4年前期/finance/TTvsQTT_Option/notebook/jl_notebook_cell_df34fa98e69747e1a8f8a730347b8e2f_X23sZmlsZQ==.jl:1"
     ]
    }
   ],
   "source": [
    "localdims = fill(N, d)\n",
    "firstpivot = rand(1:N, d)\n",
    "\n",
    "v_tci = TCI.ThreadedBatchEvaluator{Float64}(v_pre, localdims)\n",
    "q_tci = TCI.ThreadedBatchEvaluator{Float64}(q_pre, localdims)"
   ]
  },
  {
   "cell_type": "code",
   "execution_count": 47,
   "metadata": {},
   "outputs": [
    {
     "data": {
      "text/plain": [
       "1.0e-6"
      ]
     },
     "metadata": {},
     "output_type": "display_data"
    }
   ],
   "source": [
    "tol = 1e-6"
   ]
  },
  {
   "cell_type": "code",
   "execution_count": 48,
   "metadata": {},
   "outputs": [
    {
     "ename": "UndefVarError",
     "evalue": "UndefVarError: `tci_oneshot` not defined",
     "output_type": "error",
     "traceback": [
      "UndefVarError: `tci_oneshot` not defined\n",
      "\n",
      "Stacktrace:\n",
      " [1] macro expansion\n",
      "   @ ./timing.jl:279 [inlined]\n",
      " [2] macro expansion\n",
      "   @ ~/Library/Mobile Documents/com~apple~CloudDocs/4年前期/finance/TTvsQTT_Option/notebook/jl_notebook_cell_df34fa98e69747e1a8f8a730347b8e2f_X25sZmlsZQ==.jl:2 [inlined]\n",
      " [3] top-level scope\n",
      "   @ ./timing.jl:395 [inlined]\n",
      " [4] top-level scope\n",
      "   @ ~/Library/Mobile Documents/com~apple~CloudDocs/4年前期/finance/TTvsQTT_Option/notebook/jl_notebook_cell_df34fa98e69747e1a8f8a730347b8e2f_X25sZmlsZQ==.jl:0"
     ]
    }
   ],
   "source": [
    "tci_time = @elapsed begin\n",
    "    @time qtt_v, errors_v = tci_oneshot(v_tci, d, localdims, firstpivot, tol)\n",
    "    @time qtt_q, errors_q = tci_oneshot(q_tci, d, localdims, firstpivot, tol)\n",
    "end"
   ]
  },
  {
   "cell_type": "code",
   "execution_count": 49,
   "metadata": {},
   "outputs": [
    {
     "ename": "UndefVarError",
     "evalue": "UndefVarError: `qtt_v` not defined",
     "output_type": "error",
     "traceback": [
      "UndefVarError: `qtt_v` not defined\n",
      "\n",
      "Stacktrace:\n",
      " [1] top-level scope\n",
      "   @ ~/Library/Mobile Documents/com~apple~CloudDocs/4年前期/finance/TTvsQTT_Option/notebook/jl_notebook_cell_df34fa98e69747e1a8f8a730347b8e2f_X26sZmlsZQ==.jl:1"
     ]
    }
   ],
   "source": [
    "M1 = qtt_v.sitetensors\n",
    "M2 = qtt_q.sitetensors"
   ]
  },
  {
   "cell_type": "code",
   "execution_count": 50,
   "metadata": {},
   "outputs": [
    {
     "ename": "UndefVarError",
     "evalue": "UndefVarError: `N` not defined",
     "output_type": "error",
     "traceback": [
      "UndefVarError: `N` not defined\n",
      "\n",
      "Stacktrace:\n",
      " [1] top-level scope\n",
      "   @ ~/Library/Mobile Documents/com~apple~CloudDocs/4年前期/finance/TTvsQTT_Option/notebook/jl_notebook_cell_df34fa98e69747e1a8f8a730347b8e2f_X30sZmlsZQ==.jl:4"
     ]
    }
   ],
   "source": [
    "smpl_indices_v = []\n",
    "smpl_indices_q = []\n",
    "for i in 1:100\n",
    "    x = Int(N/100) * i\n",
    "    push!(smpl_indices_v, [Int(N*0.8), x])\n",
    "    push!(smpl_indices_q, [Int(N*0.6), x])\n",
    "end\n",
    "@show smpl_indices_v\n",
    "@show smpl_indices_q\n",
    ";"
   ]
  },
  {
   "cell_type": "code",
   "execution_count": 51,
   "metadata": {},
   "outputs": [
    {
     "ename": "UndefVarError",
     "evalue": "UndefVarError: `N` not defined",
     "output_type": "error",
     "traceback": [
      "UndefVarError: `N` not defined\n",
      "\n",
      "Stacktrace:\n",
      " [1] top-level scope\n",
      "   @ ~/Library/Mobile Documents/com~apple~CloudDocs/4年前期/finance/TTvsQTT_Option/notebook/jl_notebook_cell_df34fa98e69747e1a8f8a730347b8e2f_X31sZmlsZQ==.jl:1"
     ]
    }
   ],
   "source": [
    "plot_v = plot(\n",
    "    collect(Int(N/100):Int(N/100):N),\n",
    "    real.(v_pre.(smpl_indices_v))\n",
    ")\n",
    "\n",
    "plot!(\n",
    "    plot_v,\n",
    "    collect(Int(N/100):Int(N/100):N),\n",
    "    real.(evaluate_options_(smpl_indices_v, M1)[1])\n",
    ")"
   ]
  },
  {
   "cell_type": "code",
   "execution_count": 52,
   "metadata": {},
   "outputs": [
    {
     "ename": "UndefVarError",
     "evalue": "UndefVarError: `N` not defined",
     "output_type": "error",
     "traceback": [
      "UndefVarError: `N` not defined\n",
      "\n",
      "Stacktrace:\n",
      " [1] top-level scope\n",
      "   @ ~/Library/Mobile Documents/com~apple~CloudDocs/4年前期/finance/TTvsQTT_Option/notebook/jl_notebook_cell_df34fa98e69747e1a8f8a730347b8e2f_X32sZmlsZQ==.jl:1"
     ]
    }
   ],
   "source": [
    "plot(\n",
    "    collect(Int(N/100):Int(N/100):N),\n",
    "    real.(v_pre.(smpl_indices_v)) .- real.(evaluate_options_(smpl_indices_v, M1)[1])\n",
    ")"
   ]
  },
  {
   "cell_type": "code",
   "execution_count": 53,
   "metadata": {},
   "outputs": [
    {
     "ename": "UndefVarError",
     "evalue": "UndefVarError: `q_pre` not defined",
     "output_type": "error",
     "traceback": [
      "UndefVarError: `q_pre` not defined\n",
      "\n",
      "Stacktrace:\n",
      " [1] top-level scope\n",
      "   @ ~/Library/Mobile Documents/com~apple~CloudDocs/4年前期/finance/TTvsQTT_Option/notebook/jl_notebook_cell_df34fa98e69747e1a8f8a730347b8e2f_X33sZmlsZQ==.jl:1"
     ]
    }
   ],
   "source": [
    "plot_q = plot(\n",
    "    #yscale = :log10,\n",
    "    collect(20:20:2000),\n",
    "    real.(q_pre.(smpl_indices_q))\n",
    ")\n",
    "\n",
    "plot!(\n",
    "    plot_q,\n",
    "    collect(20:20:2000),\n",
    "    real.(evaluate_options_(smpl_indices_q, M2)[1])\n",
    ")"
   ]
  },
  {
   "cell_type": "code",
   "execution_count": 54,
   "metadata": {},
   "outputs": [
    {
     "ename": "UndefVarError",
     "evalue": "UndefVarError: `q_pre` not defined",
     "output_type": "error",
     "traceback": [
      "UndefVarError: `q_pre` not defined\n",
      "\n",
      "Stacktrace:\n",
      " [1] top-level scope\n",
      "   @ ~/Library/Mobile Documents/com~apple~CloudDocs/4年前期/finance/TTvsQTT_Option/notebook/jl_notebook_cell_df34fa98e69747e1a8f8a730347b8e2f_X34sZmlsZQ==.jl:1"
     ]
    }
   ],
   "source": [
    "plot(\n",
    "    collect(20:20:2000),\n",
    "    real.(q_pre.(smpl_indices_q)) .-  real.(evaluate_options_(smpl_indices_q, M2)[1])\n",
    ")"
   ]
  },
  {
   "cell_type": "code",
   "execution_count": 55,
   "metadata": {},
   "outputs": [
    {
     "ename": "UndefVarError",
     "evalue": "UndefVarError: `qo` not defined",
     "output_type": "error",
     "traceback": [
      "UndefVarError: `qo` not defined\n",
      "\n",
      "Stacktrace:\n",
      " [1] top-level scope\n",
      "   @ ~/Library/Mobile Documents/com~apple~CloudDocs/4年前期/finance/TTvsQTT_Option/notebook/jl_notebook_cell_df34fa98e69747e1a8f8a730347b8e2f_X35sZmlsZQ==.jl:2"
     ]
    }
   ],
   "source": [
    "num_samples = 100\n",
    "random_combinations = qo.generate_random_combinations(N, d, num_samples)\n",
    ";"
   ]
  },
  {
   "cell_type": "code",
   "execution_count": 56,
   "metadata": {},
   "outputs": [
    {
     "ename": "UndefVarError",
     "evalue": "UndefVarError: `v_pre` not defined",
     "output_type": "error",
     "traceback": [
      "UndefVarError: `v_pre` not defined\n",
      "\n",
      "Stacktrace:\n",
      " [1] macro expansion\n",
      "   @ show.jl:1181 [inlined]\n",
      " [2] top-level scope\n",
      "   @ ~/Library/Mobile Documents/com~apple~CloudDocs/4年前期/finance/TTvsQTT_Option/notebook/jl_notebook_cell_df34fa98e69747e1a8f8a730347b8e2f_X36sZmlsZQ==.jl:1"
     ]
    }
   ],
   "source": [
    "@show maximum(real.(v_pre.(random_combinations)) .- real.(evaluate_options_(random_combinations, M1)[1]))\n",
    "@show maximum(real.(q_pre.(random_combinations)) .- real.(evaluate_options_(random_combinations, M2)[1]))"
   ]
  },
  {
   "cell_type": "markdown",
   "metadata": {},
   "source": [
    "$$\n",
    "V(\\vec{p})=\\mathbb{E}\\left[e^{-rT}v(\\vec{S}(T))\\middle|\\vec{S}_0\\right]=e^{-rT} \\int_{-\\infty}^{\\infty} v(\\exp(\\vec{x}))q(\\vec{x}|\\vec{x}_0)dx\n",
    "$$"
   ]
  },
  {
   "cell_type": "code",
   "execution_count": 57,
   "metadata": {},
   "outputs": [
    {
     "data": {
      "text/plain": [
       "create_AB (generic function with 1 method)"
      ]
     },
     "metadata": {},
     "output_type": "display_data"
    }
   ],
   "source": [
    "function create_AB(A::Array{ComplexF64,3}, B::Array{ComplexF64,3})\n",
    "    # A_{i j k}\n",
    "    # B_{l j m}\n",
    "    dim_i, dim_j_A, dim_k = size(A)\n",
    "    dim_l, dim_j_B, dim_m = size(B)\n",
    "    @assert dim_j_A == dim_j_B \"物理次元（j）が一致しません\"\n",
    "\n",
    "    # 縮約後のテンソルAB_{i l k m}を作成\n",
    "    AB = zeros(ComplexF64, dim_i, dim_l, dim_k, dim_m)\n",
    "    for j in 1:dim_j_A\n",
    "        for i in 1:dim_i\n",
    "            for l in 1:dim_l\n",
    "                for k in 1:dim_k\n",
    "                    for m in 1:dim_m\n",
    "                        AB[i, l, k, m] += A[i, j, k] * B[l, j, m]\n",
    "                    end\n",
    "                end\n",
    "            end\n",
    "        end\n",
    "    end\n",
    "\n",
    "    # インデックスの結合： (i, l) -> x1, (k, m) -> x2\n",
    "    #dim_x1 = dim_i * dim_l\n",
    "    #dim_x2 = dim_k * dim_m\n",
    "    #AB_matrix = reshape(AB, dim_x1, dim_x2)\n",
    "\n",
    "    #return AB_matrix\n",
    "    return AB\n",
    "end\n"
   ]
  },
  {
   "cell_type": "code",
   "execution_count": 58,
   "metadata": {},
   "outputs": [
    {
     "data": {
      "text/plain": [
       "mps_inner_product_custom (generic function with 1 method)"
      ]
     },
     "metadata": {},
     "output_type": "display_data"
    }
   ],
   "source": [
    "function mps_inner_product_custom(M1::Vector{Array{ComplexF64,3}}, M2::Vector{Array{ComplexF64,3}})\n",
    "    N = length(M1)\n",
    "    @assert length(M2) == N \"MPSの長さが一致しません\"\n",
    "\n",
    "    # 初期化\n",
    "    M = nothing  # 最初は未定義\n",
    "    R = 0.0\n",
    "\n",
    "    for i in 1:N\n",
    "        A = M1[i]  # A_{ijk}\n",
    "        B = M2[i]  # B_{ljm}\n",
    "        # AB_{x1, x2} を作成\n",
    "        AB = create_AB(A, B)\n",
    "\n",
    "        dim_k, dim_m, dim_o, dim_p = size(AB)\n",
    "        @show size(AB)\n",
    "\n",
    "        #if M === nothing\n",
    "        #    # 最初の行列\n",
    "        #    M = AB\n",
    "        #else\n",
    "        #    # 行列積を計算\n",
    "        #    M = M * AB\n",
    "        #end\n",
    "        dim_i = 1\n",
    "        dim_l = 1\n",
    "\n",
    "        if M === nothing\n",
    "            # 最初の行列\n",
    "            M = AB\n",
    "            @show size(M)\n",
    "        else\n",
    "            @show dim_i, dim_l, dim_k, dim_m, dim_o, dim_p\n",
    "            for i in 1:dim_i\n",
    "                for l in 1:dim_l\n",
    "                    for k in 1:dim_k\n",
    "                        for m in 1:dim_m\n",
    "                            for o in 1:dim_o\n",
    "                                for p in 1:dim_p\n",
    "                                    R += M[i, l, k, m] * AB[k, m, o, p]\n",
    "                                end\n",
    "                            end\n",
    "                        end\n",
    "                    end\n",
    "                end\n",
    "            end\n",
    "        end\n",
    "    end\n",
    "\n",
    "    @show R\n",
    "\n",
    "    # 最終的な結果はスカラー値になるはず\n",
    "    #@show size(M)\n",
    "    #@assert size(M) == (1, 1, 1, 1) \"最終的な結果がスカラーではありません\"\n",
    "    return R\n",
    "end\n"
   ]
  },
  {
   "cell_type": "code",
   "execution_count": 59,
   "metadata": {},
   "outputs": [
    {
     "ename": "UndefVarError",
     "evalue": "UndefVarError: `M1` not defined",
     "output_type": "error",
     "traceback": [
      "UndefVarError: `M1` not defined\n",
      "\n",
      "Stacktrace:\n",
      " [1] top-level scope\n",
      "   @ ~/Library/Mobile Documents/com~apple~CloudDocs/4年前期/finance/TTvsQTT_Option/notebook/jl_notebook_cell_df34fa98e69747e1a8f8a730347b8e2f_X43sZmlsZQ==.jl:1"
     ]
    }
   ],
   "source": [
    "inner_product = mps_inner_product_custom(M1, M2)\n",
    "inner_product * exp(- r * T) * (cut^d)"
   ]
  },
  {
   "cell_type": "code",
   "execution_count": 60,
   "metadata": {},
   "outputs": [],
   "source": []
  }
 ],
 "metadata": {
  "kernelspec": {
   "display_name": "Julia 1.10.2",
   "language": "julia",
   "name": "julia-1.10"
  },
  "language_info": {
   "file_extension": ".jl",
   "mimetype": "application/julia",
   "name": "julia",
   "version": "1.10.2"
  }
 },
 "nbformat": 4,
 "nbformat_minor": 2
}
