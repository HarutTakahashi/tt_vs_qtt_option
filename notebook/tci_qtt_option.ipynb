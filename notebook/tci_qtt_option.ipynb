{
 "cells": [
  {
   "cell_type": "code",
   "execution_count": 39,
   "metadata": {},
   "outputs": [],
   "source": [
    "using Statistics\n",
    "using LinearAlgebra\n",
    "using Random\n",
    "using Plots\n",
    "using LaTeXStrings\n",
    "using TensorCrossInterpolation\n",
    "# import TensorCrossInterpolation: TensorCI, CachedFunction\n",
    "import TensorCrossInterpolation as TCI\n",
    "# using qtt_option\n",
    "# import qtt_option as qo\n",
    "# using TCIITensorConversion\n",
    "# using ITensors"
   ]
  },
  {
   "cell_type": "code",
   "execution_count": 40,
   "metadata": {},
   "outputs": [],
   "source": [
    "# struct to count number of function calls and sampling points\n",
    "\n",
    "mutable struct WrapFunc{F}\n",
    "    f::F\n",
    "    count::Int64\n",
    "end\n",
    "\n",
    "function (w::WrapFunc)(z)\n",
    "    w.count += 1\n",
    "    return w.f(z)\n",
    "end"
   ]
  },
  {
   "cell_type": "code",
   "execution_count": 41,
   "metadata": {},
   "outputs": [],
   "source": [
    "struct GenNDfunc{F} <: Function\n",
    "    d::Int\n",
    "    func::F\n",
    "    grid_min::Float64\n",
    "    grid_max::Float64\n",
    "end\n",
    "\n",
    "function (g::GenNDfunc)(b)\n",
    "    nbit = Int(length(b)/g.d) # number of qubits ## 2\n",
    "    N = 2^nbit # number of data points ## 4\n",
    "    range_ = g.grid_max - g.grid_min\n",
    "\n",
    "    z = Array{Float64}(undef, g.d)\n",
    "    for i in 1:g.d\n",
    "        ran = (i-1)*nbit+1:i*nbit\n",
    "        dec_z = frombins(b[ran])\n",
    "        z[i] = range_ * (dec_z - 1)/N + g.grid_min\n",
    "    end\n",
    "\n",
    "    return g.func(z) \n",
    "end"
   ]
  },
  {
   "cell_type": "code",
   "execution_count": 42,
   "metadata": {},
   "outputs": [
    {
     "data": {
      "text/plain": [
       "countelem (generic function with 1 method)"
      ]
     },
     "metadata": {},
     "output_type": "display_data"
    }
   ],
   "source": [
    "countelem(M) = sum([prod(size(x)) for x in M])"
   ]
  },
  {
   "cell_type": "code",
   "execution_count": 43,
   "metadata": {},
   "outputs": [
    {
     "data": {
      "text/plain": [
       "tobins (generic function with 1 method)"
      ]
     },
     "metadata": {},
     "output_type": "display_data"
    }
   ],
   "source": [
    "function tobins(i::Int, nbit::Int)::Vector{Int} # convert integer to binary ## (i=3, nbit=4)  \n",
    "    @assert 1 ≤ i ≤ 2^nbit # check an argument \"i\" ## 1 ≤ 3 ≤ 16\n",
    "    mask = 1 << (nbit-1) # increase (nbit-1) binary digits from left to right to make \"mask\" nbit binary digits ## mask = 1 << (4-1) = (1000)_[2] = (8)_[10] \n",
    "    # @show string(mask, base=2)\n",
    "    bin = ones(Int, nbit) # set initial binary in 1 start format ## bin = [1, 1, 1, 1] \n",
    "    target_bin = i-1 # convert an argument \"i\" from 1 start to 0 start format ## target_bin = (3-1)_[10] = (2)_[10] = (0010)_[2] \n",
    "    for n in 1:nbit\n",
    "        bin[n] = ( (mask & target_bin) >> (nbit-n) ) + 1 \n",
    "        mask = mask >> 1 \n",
    "    end\n",
    "    return bin ## [1, 1, 2, 1]\n",
    "end"
   ]
  },
  {
   "cell_type": "code",
   "execution_count": 44,
   "metadata": {},
   "outputs": [
    {
     "data": {
      "text/plain": [
       "frombins (generic function with 1 method)"
      ]
     },
     "metadata": {},
     "output_type": "display_data"
    }
   ],
   "source": [
    "function frombins(bin::Vector{Int})::Int # convert binary(Vector{Int}) to integer ## bin = [1, 1, 2] \n",
    "    @assert all(1 .≤ bin .≤ 2) # check if all elements are 1 or 2\n",
    "    nbit = length(bin) # number of bits ## nbit = 3\n",
    "    i = 1 # start from 1 (not 0) to make it 1 start format\n",
    "    tmp = 2^(nbit-1) # maximum value of transformation rule: 2^(nbit-1), 2^(nbit-2), ..., 2^0 ## tmp = 2^2\n",
    "    for n in eachindex(bin)\n",
    "        i += tmp * (bin[n]-1) \n",
    "        tmp = tmp >> 1 \n",
    "    end\n",
    "    return i ## i = 2\n",
    "end"
   ]
  },
  {
   "cell_type": "code",
   "execution_count": 45,
   "metadata": {},
   "outputs": [
    {
     "data": {
      "text/plain": [
       "tci_oneshot (generic function with 1 method)"
      ]
     },
     "metadata": {},
     "output_type": "display_data"
    }
   ],
   "source": [
    "function tci_oneshot(func, d, localdims, firstpivot, tol)\n",
    "    BLAS.set_num_threads(4)\n",
    "    #func_q = GenNDfunc(d, func)\n",
    "\n",
    "    for isearch in 1:100\n",
    "        p = TCI.optfirstpivot(func, localdims, firstpivot) # search optimal fist pivot\n",
    "        if abs(func(p)) > abs(func(firstpivot))\n",
    "            firstpivot = p\n",
    "        end\n",
    "    end\n",
    "\n",
    "    # execute tci2\n",
    "    qtt, ranks, errors = TCI.crossinterpolate2(\n",
    "        ComplexF64,\n",
    "        func, \n",
    "        localdims, \n",
    "        [firstpivot], \n",
    "        tolerance = tol, \n",
    "        maxiter = 20, \n",
    "        verbosity = 1, \n",
    "        loginterval = 1,\n",
    "        pivotsearch = :full,\n",
    "        #normalizeerror=false,\n",
    "    )\n",
    "\n",
    "    return qtt, errors\n",
    "end    "
   ]
  },
  {
   "cell_type": "code",
   "execution_count": 46,
   "metadata": {},
   "outputs": [
    {
     "data": {
      "text/plain": [
       "def_nonDiag (generic function with 1 method)"
      ]
     },
     "metadata": {},
     "output_type": "display_data"
    }
   ],
   "source": [
    "function def_nonDiag(d, mtr::Matrix{Float64}, nondiag::Float64)\n",
    "    for i in 1:d, j in 1:d\n",
    "        if i != j\n",
    "            mtr[i, j] = nondiag\n",
    "        end\n",
    "    end\n",
    "    return mtr\n",
    "end"
   ]
  },
  {
   "cell_type": "markdown",
   "metadata": {},
   "source": [
    "$$\n",
    "v(\\vec{S}(T)) = \\max \\Bigl\\lbrace \\min \\lbrace S^1_T, \\ldots, S^d_T \\rbrace - K, 0 \\Bigl\\rbrace\n",
    "$$"
   ]
  },
  {
   "cell_type": "code",
   "execution_count": 47,
   "metadata": {},
   "outputs": [],
   "source": [
    "function payoff_v(x::Vector{Float64}, K::Float64)\n",
    "    return maximum([(minimum(exp.(x)) - K), 0.0])\n",
    "end\n",
    ";"
   ]
  },
  {
   "cell_type": "markdown",
   "metadata": {},
   "source": [
    "$$\n",
    "q(\\vec{x}|\\vec{x}_0) = \\frac{1}{\\sqrt{(2 \\pi)^d \\det \\Sigma}} \\exp\\left(-\\frac{1}{2}\\left(\\vec{x}-\\vec{\\mu}\\right)^T \\Sigma^{-1} \\left(\\vec{x}-\\vec{\\mu}\\right)\\right)\n",
    "$$\n",
    "\n",
    "$$\n",
    "\\mu_j = x_0^j+r_j T-\\frac{1}{2} \\sigma_j^2 \\Sigma_{j j} T \n",
    "$$"
   ]
  },
  {
   "cell_type": "code",
   "execution_count": 48,
   "metadata": {},
   "outputs": [
    {
     "data": {
      "text/plain": [
       "normal_dstrb_q (generic function with 1 method)"
      ]
     },
     "metadata": {},
     "output_type": "display_data"
    }
   ],
   "source": [
    "function normal_dstrb_q(d::Int, x::Vector{Float64}, x0::Vector{Float64}, σ::Vector{Float64}, Σ::Matrix{Float64}, T::Float64, r::Float64)\n",
    "    #μ = [x0[i] + r * T - σ[i]^2 * Σ[i,i] * T / 2 for i in 1:d]\n",
    "    μ = [x0[i] + r * T - Σ[i,i] * T / 2 for i in 1:d]\n",
    "    mtrx = transpose(x .- μ) * inv(Σ) * (x .- μ)\n",
    "    \n",
    "    return exp(-mtrx/2)/sqrt((2*π)^d * det(Σ))\n",
    "end"
   ]
  },
  {
   "cell_type": "code",
   "execution_count": 49,
   "metadata": {},
   "outputs": [
    {
     "data": {
      "text/plain": [
       "func (generic function with 1 method)"
      ]
     },
     "metadata": {},
     "output_type": "display_data"
    }
   ],
   "source": [
    "function func(idxs::Vector{Int}, f::Function, N::Int, cut::Float64, slice::Float64) <: Function\n",
    "    return f( cut .* ( idxs ) .+ slice )\n",
    "end"
   ]
  },
  {
   "cell_type": "code",
   "execution_count": 50,
   "metadata": {},
   "outputs": [
    {
     "data": {
      "text/plain": [
       "evaluate_options_ (generic function with 1 method)"
      ]
     },
     "metadata": {},
     "output_type": "display_data"
    }
   ],
   "source": [
    "function evaluate_options_(random_combinations, tt_option)\n",
    "    result_hako = []\n",
    "    result_time = []\n",
    "    for i in random_combinations\n",
    "        #@show i\n",
    "        time_inner = @elapsed begin\n",
    "            result = qo._evaluate(tt_option, i)\n",
    "        end\n",
    "        push!(result_hako, result)\n",
    "        push!(result_time, time_inner)\n",
    "    end\n",
    "    return result_hako, result_time\n",
    "end"
   ]
  },
  {
   "cell_type": "code",
   "execution_count": 51,
   "metadata": {},
   "outputs": [
    {
     "data": {
      "text/plain": [
       "generate_random_combinations_ (generic function with 1 method)"
      ]
     },
     "metadata": {},
     "output_type": "display_data"
    }
   ],
   "source": [
    "function generate_random_combinations_(d, R, num_samples)\n",
    "    Random.seed!(100)\n",
    "\n",
    "    possible_values = collect(1:2)\n",
    "    random_combinations = Vector{Int}[]\n",
    "\n",
    "    for _ in 1:num_samples\n",
    "        combination = rand(possible_values, d*R)\n",
    "        push!(random_combinations, combination)\n",
    "    end\n",
    "\n",
    "    return random_combinations\n",
    "end"
   ]
  },
  {
   "cell_type": "code",
   "execution_count": 52,
   "metadata": {},
   "outputs": [
    {
     "data": {
      "text/plain": [
       "3×3 Matrix{Float64}:\n",
       " 0.04       0.0133333  0.0133333\n",
       " 0.0133333  0.04       0.0133333\n",
       " 0.0133333  0.0133333  0.04"
      ]
     },
     "metadata": {},
     "output_type": "display_data"
    }
   ],
   "source": [
    "d = 3\n",
    "T = 1.0\n",
    "r = 0.01\n",
    "K = 100.0\n",
    "s0 = fill(100.0, d)\n",
    "x0 = log.(s0)\n",
    "σ = fill(0.2, d)\n",
    "\n",
    "nondiag = 1/3\n",
    "Σ_ = def_nonDiag(d, Matrix{Float64}(I, d, d), nondiag)\n",
    "σ_ = Matrix{Float64}(I, d, d) .* σ[1]\n",
    "Σ = σ_ * Σ_ * σ_"
   ]
  },
  {
   "cell_type": "code",
   "execution_count": 53,
   "metadata": {},
   "outputs": [
    {
     "data": {
      "text/plain": [
       "q (generic function with 1 method)"
      ]
     },
     "metadata": {},
     "output_type": "display_data"
    }
   ],
   "source": [
    "v(x) = payoff_v(x, K)\n",
    "q(x) = normal_dstrb_q(d, x, x0, σ, Σ, T, r)"
   ]
  },
  {
   "cell_type": "code",
   "execution_count": 54,
   "metadata": {},
   "outputs": [
    {
     "name": "stdout",
     "output_type": "stream",
     "text": [
      "N = 256\n",
      "grid_min = 0.0\n",
      "grid_max = 10.24\n"
     ]
    },
    {
     "data": {
      "text/plain": [
       "q_pre (generic function with 1 method)"
      ]
     },
     "metadata": {},
     "output_type": "display_data"
    }
   ],
   "source": [
    "R = 8\n",
    "N = 2^R\n",
    "@show N\n",
    "cut = 0.04\n",
    "slice = 0.0\n",
    "\n",
    "grid_min = slice\n",
    "grid_max = N*cut + slice\n",
    "\n",
    "@show grid_min\n",
    "@show grid_max\n",
    "\n",
    "idxs_ = fill(Int(N/2), d)\n",
    "xs = cut .* ( idxs_ ) .- slice\n",
    "xsp =  cut .* ( idxs_ .+ 1 ) .- slice\n",
    "xsm =  cut .* ( idxs_ .- 1 ) .- slice\n",
    "\n",
    "v_pre(idx) = func(idx, v, N, cut, slice)\n",
    "q_pre(idx) = func(idx, q, N, cut, slice)"
   ]
  },
  {
   "cell_type": "code",
   "execution_count": 55,
   "metadata": {},
   "outputs": [
    {
     "data": {
      "text/plain": [
       "(::TensorCrossInterpolation.ThreadedBatchEvaluator{Float64}) (generic function with 3 methods)"
      ]
     },
     "metadata": {},
     "output_type": "display_data"
    }
   ],
   "source": [
    "localdims = fill(2, d*R)\n",
    "firstpivot = rand(1:2, d*R)\n",
    "\n",
    "v_bit = GenNDfunc(d, v, grid_min, grid_max)\n",
    "q_bit = GenNDfunc(d, q, grid_min, grid_max)\n",
    "\n",
    "v_tci = TCI.ThreadedBatchEvaluator{Float64}(v_bit, localdims)\n",
    "q_tci = TCI.ThreadedBatchEvaluator{Float64}(q_bit, localdims)"
   ]
  },
  {
   "cell_type": "code",
   "execution_count": 56,
   "metadata": {},
   "outputs": [
    {
     "data": {
      "text/plain": [
       "1.0e-5"
      ]
     },
     "metadata": {},
     "output_type": "display_data"
    }
   ],
   "source": [
    "tol_v = 1e-5\n",
    "tol_q = 1e-5"
   ]
  },
  {
   "cell_type": "code",
   "execution_count": 57,
   "metadata": {},
   "outputs": [
    {
     "name": "stdout",
     "output_type": "stream",
     "text": [
      "iteration = 1, rank = 8, error= 7.929656931082718e-12, maxsamplevalue= 26803.18607429759, nglobalpivot=4\n",
      "  Rejected 4 global pivots added in the previous iteration, errors are [1.1368683772161603e-13, 5.684341886080802e-14, 4.547473508864641e-13, 4.547473508864641e-13]\n",
      "iteration = 2, rank = 22, error= 1.148218198034198e-11, maxsamplevalue= 26803.18607429759, nglobalpivot=5\n",
      "  Rejected 5 global pivots added in the previous iteration, errors are [4.887303582116817e-15, 5.684341886080801e-13, 5.684341886080801e-13, 2.8421709430404007e-13, 3.410605131648481e-13]\n",
      "iteration = 3, rank = 40, error= 1.8998169465610582e-11, maxsamplevalue= 26803.18607429759, nglobalpivot=4\n",
      "  Rejected 4 global pivots added in the previous iteration, errors are [4.547473508864641e-13, 3.410605131648481e-13, 5.684341886080802e-14, 1.8189894035458565e-12]\n",
      "iteration = 4, rank = 52, error= 1.463359815898904e-11, maxsamplevalue= 26803.18607429759, nglobalpivot=5\n",
      "  Rejected 5 global pivots added in the previous iteration, errors are [3.637978807091713e-12, 0.0, 9.094947017729282e-13, 3.637978807091713e-12, 0.0]\n",
      "iteration = 5, rank = 61, error= 2.0043087210151456e-11, maxsamplevalue= 26803.18607429759, nglobalpivot=4\n",
      "  Rejected 4 global pivots added in the previous iteration, errors are [0.0, 1.8474111129762605e-13, 2.2737367544323206e-13, 5.684341886080801e-13]\n",
      "iteration = 6, rank = 66, error= 2.0043087210151462e-11, maxsamplevalue= 26803.18607429759, nglobalpivot=2\n",
      "  Rejected 2 global pivots added in the previous iteration, errors are [1.8189894035458565e-12, 1.1368683772161603e-13]\n",
      "iteration = 7, rank = 71, error= 1.9967859395537983e-11, maxsamplevalue= 26803.18607429759, nglobalpivot=4\n",
      "  Rejected 4 global pivots added in the previous iteration, errors are [2.2737367544323206e-13, 0.0, 4.547473508864641e-13, 0.0]\n",
      "iteration = 8, rank = 79, error= 2.000874981741071e-11, maxsamplevalue= 26803.18607429759, nglobalpivot=2\n",
      "  Rejected 2 global pivots added in the previous iteration, errors are [3.979039320256561e-13, 1.1368683772161603e-13]\n",
      "iteration = 9, rank = 86, error= 1.907300698356384e-11, maxsamplevalue= 26803.18607429759, nglobalpivot=2\n",
      "  Rejected 2 global pivots added in the previous iteration, errors are [0.0, 1.8189894035458565e-12]\n",
      "iteration = 10, rank = 90, error= 1.915915189661493e-11, maxsamplevalue= 26803.18607429759, nglobalpivot=3\n",
      "  Rejected 3 global pivots added in the previous iteration, errors are [8.526512829121202e-14, 2.7284841053187847e-12, 2.7284841053187847e-12]\n",
      "iteration = 11, rank = 98, error= 1.927298657909126e-11, maxsamplevalue= 26803.18607429759, nglobalpivot=4\n",
      "  Rejected 4 global pivots added in the previous iteration, errors are [5.4569682106375694e-12, 1.1368683772161603e-13, 1.8189894035458565e-12, 1.8189894035458565e-12]\n",
      "iteration = 12, rank = 106, error= 1.5143310308350637e-11, maxsamplevalue= 26803.18607429759, nglobalpivot=4\n",
      "  Rejected 4 global pivots added in the previous iteration, errors are [2.2737367544323206e-13, 7.275957614183426e-12, 9.094947017729282e-12, 3.637978807091713e-12]\n",
      "iteration = 13, rank = 113, error= 1.5143310308351384e-11, maxsamplevalue= 26803.18607429759, nglobalpivot=2\n",
      "  Rejected 2 global pivots added in the previous iteration, errors are [1.2732925824820995e-11, 1.8189894035458565e-12]\n",
      "iteration = 14, rank = 117, error= 1.5143310308351403e-11, maxsamplevalue= 26803.18607429759, nglobalpivot=1\n",
      "  Rejected 1 global pivots added in the previous iteration, errors are [7.275957614183426e-12]\n",
      "iteration = 15, rank = 123, error= 1.5143310308351364e-11, maxsamplevalue= 26803.18607429759, nglobalpivot=3\n",
      "  Rejected 3 global pivots added in the previous iteration, errors are [2.2737367544323206e-13, 4.547473508864641e-13, 1.3642420526593924e-12]\n",
      "iteration = 16, rank = 129, error= 1.5143310308351364e-11, maxsamplevalue= 26803.18607429759, nglobalpivot=3\n",
      "  Rejected 3 global pivots added in the previous iteration, errors are [3.410605131648481e-13, 4.547473508864641e-13, 1.8189894035458565e-12]\n",
      "iteration = 17, rank = 131, error= 1.5143310308351364e-11, maxsamplevalue= 26803.18607429759, nglobalpivot=1\n",
      "  Rejected 1 global pivots added in the previous iteration, errors are [2.7284841053187847e-12]\n",
      "iteration = 18, rank = 133, error= 1.5143310308351364e-11, maxsamplevalue= 26803.18607429759, nglobalpivot=0\n",
      "iteration = 19, rank = 134, error= 1.5143310308351364e-11, maxsamplevalue= 26803.18607429759, nglobalpivot=1\n",
      "  Rejected 1 global pivots added in the previous iteration, errors are [2.2737367544323206e-12]\n",
      "iteration = 20, rank = 134, error= 1.5143310308351364e-11, maxsamplevalue= 26803.18607429759, nglobalpivot=0\n",
      " 18.851766 seconds (199.66 M allocations: 15.515 GiB, 11.98% gc time, 1.03% compilation time)\n",
      "iteration = 1, rank = 10, error= 1.121770521983653e-13, maxsamplevalue= 8.968507186477073, nglobalpivot=5\n",
      "  Rejected 5 global pivots added in the previous iteration, errors are [1.016496153294355e-5, 9.371564768850815e-6, 2.7755575615628914e-16, 1.0263537481063068e-5, 1.1965739825370303e-5]\n",
      "iteration = 2, rank = 27, error= 7.344482440791698e-5, maxsamplevalue= 8.968507186477073, nglobalpivot=1\n",
      "  Rejected 1 global pivots added in the previous iteration, errors are [3.141104619134444e-6]\n",
      "iteration = 3, rank = 30, error= 8.904454952142025e-5, maxsamplevalue= 8.968507186477073, nglobalpivot=0\n",
      "iteration = 4, rank = 30, error= 8.552975396560177e-5, maxsamplevalue= 8.968507186477073, nglobalpivot=0\n",
      "iteration = 5, rank = 30, error= 8.552975396560177e-5, maxsamplevalue= 8.968507186477073, nglobalpivot=0\n",
      "  0.687243 seconds (3.84 M allocations: 545.490 MiB, 5.72% gc time, 26.32% compilation time)\n"
     ]
    },
    {
     "data": {
      "text/plain": [
       "19.53942505"
      ]
     },
     "metadata": {},
     "output_type": "display_data"
    }
   ],
   "source": [
    "tci_time = @elapsed begin\n",
    "    @time qtt_v, errors_v = tci_oneshot(v_tci, d, localdims, firstpivot, tol_v)\n",
    "    @time qtt_q, errors_q = tci_oneshot(q_tci, d, localdims, firstpivot, tol_q)\n",
    "end"
   ]
  },
  {
   "cell_type": "code",
   "execution_count": 58,
   "metadata": {},
   "outputs": [
    {
     "data": {
      "text/plain": [
       "24-element Vector{Array{ComplexF64, 3}}:\n",
       " [1.0 + 0.0im 0.0 + 0.0im;;; 0.0 + 0.0im 1.0 + 0.0im]\n",
       " [5.255152110627355e-44 + 0.0im 1.0 + 0.0im; 0.0 + 0.0im -2.7831394338699136e-100 + 0.0im;;; -6.080314439634118e-72 + 0.0im 0.0 + 0.0im; 1.0 + 0.0im 3.5554105278784314e-58 + 0.0im]\n",
       " [0.0 + 0.0im 1.0 + 0.0im; 0.0 + 0.0im -3.7043316045281324e-29 + 0.0im;;; 0.0 + 0.0im 0.0 + 0.0im; 1.0 + 0.0im 8.885176602250863e-19 - 0.0im;;; 1.0 + 0.0im 0.0 + 0.0im; 0.0 + 0.0im 2.302937119536514e-28 + 0.0im]\n",
       " [0.0 + 0.0im 1.0 + 0.0im; 0.0 + 0.0im -1.321244736137673e-9 + 0.0im; 1.4062749559831597e-15 - 0.0im 0.0 + 0.0im;;; 1.0 + 0.0im 0.0 + 0.0im; 0.0 + 0.0im 3.418120450280581e-11 - 0.0im; -8.902921704108317e-13 + 0.0im 0.0 + 0.0im;;; 0.0 + 0.0im 0.0 + 0.0im; 1.0 + 0.0im 4.5303478801452485e-7 + 0.0im; -1.4299738536930195e-14 + 0.0im 0.0 + 0.0im;;; 0.0 + 0.0im 0.0 + 0.0im; 0.0 + 0.0im -3.1494123689493204e-8 + 0.0im; 4.999737925348586e-9 + 0.0im 1.0 + 0.0im]\n",
       " [1.0 + 0.0im 0.0 + 0.0im; 0.0 + 0.0im 0.0 + 0.0im; 0.0 + 0.0im 0.0 + 0.0im; -8.041268814077697e-8 + 0.0im 0.0 + 0.0im;;; 0.0 + 0.0im 0.0 + 0.0im; 0.0 + 0.0im 1.0 + 0.0im; 0.0 + 0.0im 0.0 + 0.0im; 3.658938120481497e-7 - 0.0im 0.0 + 0.0im;;; 0.0 + 0.0im 1.0 + 0.0im; 0.0 + 0.0im 0.0 + 0.0im; 0.0 + 0.0im 0.0 + 0.0im; 1.0992475919289473e-7 + 0.0im 0.0 + 0.0im;;; 0.0 + 0.0im 0.0 + 0.0im; 1.0 + 0.0im 0.0 + 0.0im; 0.0 + 0.0im 0.0 + 0.0im; -7.582911511888763e-6 + 0.0im 0.0 + 0.0im;;; 0.0 + 0.0im 0.0 + 0.0im; 0.0 + 0.0im 0.0 + 0.0im; 1.0 + 0.0im 0.0 + 0.0im; -1.0813032096724853e-6 + 0.0im 0.0 + 0.0im;;; 0.0 + 0.0im 0.0 + 0.0im; 0.0 + 0.0im 0.0 + 0.0im; 0.0 + 0.0im 0.0 + 0.0im; 0.0010993463641257634 - 0.0im 1.0 + 0.0im;;; 0.0 + 0.0im 0.0 + 0.0im; 0.0 + 0.0im 0.0 + 0.0im; 0.0 + 0.0im 1.0 + 0.0im; 5.972748554059275e-5 + 0.0im 0.0 + 0.0im]\n",
       " [1.0 + 0.0im 0.0 + 0.0im; 0.0 + 0.0im 0.0 + 0.0im; … ; 0.002197189928923715 - 0.0im 0.013986028923560564 - 0.0im; -0.0026293732015875157 + 0.0im -0.0003226483707569655 + 0.0im;;; 0.0 + 0.0im 1.0 + 0.0im; 0.0 + 0.0im 0.0 + 0.0im; … ; -0.0020382719387823226 + 0.0im -0.012702974640605866 + 0.0im; 0.0037514534855376137 - 0.0im 0.00045059698791072793 - 0.0im;;; 0.0 + 0.0im 0.0 + 0.0im; 0.0 + 0.0im 1.0 + 0.0im; … ; -0.0032101480973214056 + 0.0im -0.02112930686392069 + 0.0im; 0.0024965242825740787 + 0.0im 0.0003107108485242896 + 0.0im;;; 0.0 + 0.0im 0.0 + 0.0im; 0.0 + 0.0im 0.0 + 0.0im; … ; 0.0025465281115178316 - 0.0im 0.015650073770589554 - 0.0im; -0.007344271733782576 + 0.0im -0.0008528377706224242 + 0.0im;;; 0.0 + 0.0im 0.0 + 0.0im; 1.0 + 0.0im 0.0 + 0.0im; … ; 0.006206044650033193 - 0.0im 0.04324211972312761 - 0.0im; -0.0030758834578162864 + 0.0im -0.00038651864149025596 + 0.0im;;; 0.0 + 0.0im 0.0 + 0.0im; 0.0 + 0.0im 0.0 + 0.0im; … ; -0.004119581279925287 + 0.0im -0.025077053413056778 + 0.0im; 0.01950283997020398 - 0.0im 0.00213859729384434 - 0.0im;;; 0.0 + 0.0im 0.0 + 0.0im; 0.0 + 0.0im 0.0 + 0.0im; … ; -0.014762627862519227 + 0.0im -0.11483630730815762 + 0.0im; 0.004450474627571976 + 0.0im 0.000562999873315121 + 0.0im;;; 0.0 + 0.0im 0.0 + 0.0im; 0.0 + 0.0im 0.0 + 0.0im; … ; 0.007825246180619857 - 0.0im 0.04731861290893661 - 0.0im; -0.0673590781929495 + 0.0im -0.006613932315971693 + 0.0im;;; 0.0 + 0.0im 0.0 + 0.0im; 0.0 + 0.0im 0.0 + 0.0im; … ; 0.03478979241983933 + 0.0im 0.35814082846752715 + 0.0im; -0.0057651994089005665 + 0.0im -0.0007327671117441933 + 0.0im;;; 0.0 + 0.0im 0.0 + 0.0im; 0.0 + 0.0im 0.0 + 0.0im; … ; -0.013314342277607246 + 0.0im -0.08013164264030194 + 0.0im; 0.2739616654254091 + 0.0im 0.020322624450397987 + 0.0im]\n",
       " [0.0 + 0.0im 1.0 + 0.0im; 0.7817528656635172 + 0.0im 0.0 + 0.0im; … ; 0.3177541374075222 - 0.0im 0.2919634873210768 - 0.0im; 0.37382606194771767 - 0.0im 0.23916068286286896 - 0.0im;;; 0.0 + 0.0im 0.0 + 0.0im; -0.3851954935832853 + 0.0im 0.0 + 0.0im; … ; 0.22265530752465484 - 0.0im 0.19938146784632838 - 0.0im; 0.5772273604153616 - 0.0im 0.3535471410513632 - 0.0im;;; 0.0 + 0.0im 0.0 + 0.0im; 0.08679363186507554 - 0.0im 0.0 + 0.0im; … ; 0.2236794940949307 - 0.0im 0.21805944370153005 - 0.0im; 0.11936163170835797 - 0.0im 0.07793887876000316 - 0.0im;;; 0.0 + 0.0im 0.0 + 0.0im; 0.09915932719409687 - 0.0im 0.0 + 0.0im; … ; -0.09493699469948295 + 0.0im -0.0841883489854717 + 0.0im; -0.4592454819616018 + 0.0im -0.2634937854368131 + 0.0im;;; 0.0 + 0.0im 0.0 + 0.0im; -0.05182845612049014 + 0.0im 0.0 + 0.0im; … ; -0.31193487385054086 + 0.0im -0.33664902472807184 + 0.0im; -0.0891809097404434 + 0.0im -0.05869817426688108 + 0.0im;;; 1.0 + 0.0im 0.0 + 0.0im; -0.346863690439409 + 0.0im 0.0 + 0.0im; … ; -0.323054496262941 + 0.0im -0.30101898948411404 + 0.0im; -0.2943382042973954 + 0.0im -0.1898921611752447 + 0.0im;;; 0.0 + 0.0im 0.0 + 0.0im; -0.047037471209830956 + 0.0im 0.0 + 0.0im; … ; 0.0571743954341396 - 0.0im 0.05036872832428552 - 0.0im; 0.6733893530613944 - 0.0im 0.3231712580635393 - 0.0im;;; 0.0 + 0.0im 0.0 + 0.0im; 0.034518532456521256 + 0.0im 0.0 + 0.0im; … ; 0.5746892308480629 - 0.0im 0.9269475627717125 - 0.0im; 0.06751042484729697 - 0.0im 0.04467825636213138 - 0.0im;;; 0.0 + 0.0im 0.0 + 0.0im; 0.8271713555837047 - 0.0im 1.0 + 0.0im; … ; -0.26541575965635117 + 0.0im -0.23926167115175 + 0.0im; -0.5234865072580317 + 0.0im -0.3267294854676912 + 0.0im]\n",
       " [1.0 + 0.0im 0.7518567747614886 + 0.0im; 0.0 + 0.0im 0.05259097689737091 - 0.0im; … ; 0.0 + 0.0im 0.029607232674031737 - 0.0im; 0.0 + 0.0im -0.03861961437604161 + 0.0im;;; 0.0 + 0.0im -0.44286357435230916 + 0.0im; 1.0 + 0.0im 1.1049234752204806 - 0.0im; … ; 0.0 + 0.0im 0.05711685939506865 - 0.0im; 0.0 + 0.0im 0.5759374349506153 + 0.0im;;; 0.0 + 0.0im -0.0963123313081526 + 0.0im; 0.0 + 0.0im -0.023206521136594604 + 0.0im; … ; 0.0 + 0.0im -0.038405619085292074 + 0.0im; 0.0 + 0.0im 0.014683742182865347 - 0.0im;;; 0.0 + 0.0im 0.15135650151113547 - 0.0im; 0.0 + 0.0im 0.22941299740608367 + 0.0im; … ; 0.0 + 0.0im -0.02823234871893006 + 0.0im; 0.0 + 0.0im -0.07145088005825906 + 0.0im;;; 0.0 + 0.0im 0.09433840976351465 - 0.0im; 0.0 + 0.0im 0.02896003520852971 - 0.0im; … ; 0.0 + 0.0im 0.19102359818963877 + 0.0im; 0.0 + 0.0im -0.017395112610030697 + 0.0im;;; 0.0 + 0.0im 0.6505735272464034 - 0.0im; 0.0 + 0.0im -0.3225990554841835 + 0.0im; … ; 0.0 + 0.0im -0.05707459755629607 + 0.0im; 1.0 + 0.0im 0.5055149574372423 + 0.0im;;; 0.0 + 0.0im -0.09942711758793772 + 0.0im; 0.0 + 0.0im -0.08924695501646368 + 0.0im; … ; 0.0 + 0.0im 0.022931777447388335 + 0.0im; 0.0 + 0.0im 0.036874106313497704 + 0.0im;;; 0.0 + 0.0im -0.11286054595766405 + 0.0im; 0.0 + 0.0im -0.03779593255426332 + 0.0im; … ; 1.0 + 0.0im 0.9623202286301383 + 0.0im; 0.0 + 0.0im 0.02222595618331421 + 0.0im]\n",
       " [1.0 + 0.0im 0.0 + 0.0im; 0.0 + 0.0im 0.0 + 0.0im; … ; 0.0 + 0.0im 0.0 + 0.0im; 0.0 + 0.0im 4.669332768199779e-142 - 0.0im;;; 0.0 + 0.0im 0.0 + 0.0im; 1.0 + 0.0im 0.0 + 0.0im; … ; 0.0 + 0.0im 0.0 + 0.0im; 0.0 + 0.0im 1.0936683826028914e-141 - 0.0im;;; 0.0 + 0.0im 0.0 + 0.0im; 0.0 + 0.0im 0.0 + 0.0im; … ; 0.0 + 0.0im 0.0 + 0.0im; 0.0 + 0.0im -4.398774336491526e-142 + 0.0im;;; … ;;; 0.0 + 0.0im 0.0 + 0.0im; 0.0 + 0.0im 0.0 + 0.0im; … ; 0.0 + 0.0im 0.0 + 0.0im; 1.0 + 0.0im -1.8783119223302294e-141 + 0.0im;;; 0.0 + 0.0im 0.0 + 0.0im; 0.0 + 0.0im 0.0 + 0.0im; … ; 0.0 + 0.0im 0.0 + 0.0im; 0.0 + 0.0im 0.024523005315416117 - 0.0im;;; 0.0 + 0.0im 0.0 + 0.0im; 0.0 + 0.0im 0.0 + 0.0im; … ; 0.0 + 0.0im 1.0 + 0.0im; 0.0 + 0.0im 0.006621002854188623 + 0.0im]\n",
       " [4.870281600833994e-29 - 0.0im 1.0 + 0.0im; 1.3078045457811204e-30 - 0.0im 0.0 + 0.0im; … ; 0.0 + 0.0im 2.1357697577059952e-86 - 0.0im; 0.0 + 0.0im 1.4868137890061387e-78 - 0.0im;;; 1.8213357840010583e-28 - 0.0im 0.0 + 0.0im; 4.890787416036977e-30 - 0.0im 1.0 + 0.0im; … ; 0.0 + 0.0im 5.002474968474312e-86 - 0.0im; 0.0 + 0.0im 3.482467487135808e-78 - 0.0im;;; -3.103324572683321e-29 + 0.0im 0.0 + 0.0im; -8.33327994656694e-31 + 0.0im 0.0 + 0.0im; … ; 0.0 + 0.0im -2.0120175274671347e-86 + 0.0im; 0.0 + 0.0im -1.4006638148903271e-78 + 0.0im;;; … ;;; -6.681833097285632e-29 + 0.0im 0.0 + 0.0im; -1.7942559555951458e-30 + 0.0im 0.0 + 0.0im; … ; 0.0 + 0.0im -8.591511671256757e-86 + 0.0im; 0.0 + 0.0im -5.9809716315319945e-78 + 0.0im;;; 1.831422965086544e-48 - 0.0im 0.0 + 0.0im; 4.917874357411241e-50 - 0.0im 0.0 + 0.0im; … ; 1.0 + 0.0im 3.127315012985247e-58 - 0.0im; 0.0 + 0.0im 2.318834387420058e-50 - 0.0im;;; 9.635983892995646e-49 + 0.0im 0.0 + 0.0im; 2.5875266936751465e-50 + 0.0im 0.0 + 0.0im; … ; 0.0 + 0.0im 5.864862941032306e-58 + 0.0im; 1.0 + 0.0im 4.1719222980221555e-50 + 0.0im]\n",
       " ⋮\n",
       " [1.0 + 0.0im 0.8236676901325328 + 0.0im; 0.0 + 0.0im 0.12260306977767355 - 0.0im; … ; 0.3799148766636766 - 0.0im 0.34835028083796454 - 0.0im; 0.12912381723256414 - 0.0im 0.05078345073209948 + 0.0im;;; 0.0 + 0.0im -0.061740371800214494 + 0.0im; 1.0 + 0.0im 0.9273483949637379 - 0.0im; … ; 0.41224469790279583 - 0.0im 0.37214094330271913 - 0.0im; 0.04635391471615427 - 0.0im 0.017540183045041124 - 0.0im;;; 0.0 + 0.0im 0.04601605301434073 - 0.0im; 0.0 + 0.0im 0.03871591853085426 - 0.0im; … ; 0.1649019040591295 + 0.0im 0.15224814495220473 - 0.0im; 0.4884487942087676 - 0.0im 0.3514953788767033 - 0.0im;;; 0.0 + 0.0im 0.04417133738360246 - 0.0im; 0.0 + 0.0im 0.19920800929438764 + 0.0im; … ; -0.8617301130853092 + 0.0im -0.7568491971953769 + 0.0im; -0.04398419819512273 + 0.0im -0.016475026630968222 + 0.0im;;; 0.0 + 0.0im -0.011325992208580216 + 0.0im; 0.0 + 0.0im -0.011741416552789818 + 0.0im; … ; -0.05591340803095579 + 0.0im -0.0517781169073146 + 0.0im; 0.07064309356267144 + 0.0im 0.02175234623039109 + 0.0im;;; 0.0 + 0.0im 0.3354726888190358 + 0.0im; 0.0 + 0.0im -0.23721784164739904 + 0.0im; … ; -0.549832531055898 + 0.0im -0.501828113568531 + 0.0im; -0.11715086844393577 + 0.0im -0.04508518620298264 + 0.0im;;; 0.0 + 0.0im -0.025375966969438384 + 0.0im; 0.0 + 0.0im -0.08648204799686621 + 0.0im; … ; 0.9483782753117702 + 0.0im 0.8027220764102816 + 0.0im; 0.0274991092173147 + 0.0im 0.010262985008457855 + 0.0im;;; 0.0 + 0.0im -0.12789834185817187 + 0.0im; 0.0 + 0.0im -0.08524136650964648 + 0.0im; … ; -0.3317051328786854 + 0.0im -0.30558118400844697 + 0.0im; -0.28502812905462865 + 0.0im -0.12316446060793244 + 0.0im]\n",
       " [1.0 + 0.0im 0.0 + 0.0im; 0.0 + 0.0im 0.0 + 0.0im; … ; 0.0 + 0.0im 0.0 + 0.0im; 0.0 + 0.0im 1.0208717323583827e-123 - 0.0im;;; 0.0 + 0.0im 0.0 + 0.0im; 1.0 + 0.0im 0.0 + 0.0im; … ; 0.0 + 0.0im 0.0 + 0.0im; 0.0 + 0.0im 5.657237711042047e-124 - 0.0im;;; 0.0 + 0.0im 0.0 + 0.0im; 0.0 + 0.0im 0.0 + 0.0im; … ; 0.0 + 0.0im 0.0 + 0.0im; 0.0 + 0.0im 7.878529978989579e-124 - 0.0im;;; … ;;; 0.0 + 0.0im 0.0 + 0.0im; 0.0 + 0.0im 0.0 + 0.0im; … ; 1.0 + 0.0im 0.0 + 0.0im; 0.0 + 0.0im 4.351070570809877e-124 - 0.0im;;; 0.0 + 0.0im 1.0 + 0.0im; 0.0 + 0.0im 0.0 + 0.0im; … ; 0.0 + 0.0im 0.0 + 0.0im; 0.0 + 0.0im 0.3234199332685853 - 0.0im;;; 0.0 + 0.0im 0.0 + 0.0im; 0.0 + 0.0im 0.0 + 0.0im; … ; 0.0 + 0.0im 0.0 + 0.0im; 1.0 + 0.0im -1.2681442060491552e-123 + 0.0im]\n",
       " [3.4681525502465015e-24 - 0.0im 1.0 + 0.0im; 3.610632083755941e-27 - 0.0im 0.0 + 0.0im; … ; 0.0 + 0.0im 2.41574967998233e-79 - 0.0im; 6.830141493494372e-23 - 0.0im 0.0 + 0.0im;;; 3.0015927473583884e-24 - 0.0im 0.0 + 0.0im; 3.1247504421411925e-27 - 0.0im 1.0 + 0.0im; … ; 0.0 + 0.0im 1.3386618554424867e-79 - 0.0im; 5.911516454790567e-23 - 0.0im 0.0 + 0.0im;;; 1.6933855882301217e-24 - 0.0im 0.0 + 0.0im; 1.7630075152572388e-27 - 0.0im 0.0 + 0.0im; … ; 0.0 + 0.0im 1.8644452450978932e-79 - 0.0im; 3.334860856126077e-23 - 0.0im 0.0 + 0.0im;;; … ;;; 3.6961241410561416e-24 - 0.0im 0.0 + 0.0im; 3.847429393873941e-27 - 0.0im 0.0 + 0.0im; … ; 0.0 + 0.0im 1.0295632624760379e-79 - 0.0im; 7.279849452532672e-23 - 0.0im 0.0 + 0.0im;;; 8.248132393511758e-40 - 0.0im 0.0 + 0.0im; 8.587412800309121e-43 - 0.0im 0.0 + 0.0im; … ; 1.0 + 0.0im 1.6416436098090767e-60 - 0.0im; 1.6243191314592645e-38 - 0.0im 0.0 + 0.0im;;; -3.276578263607998e-24 + 0.0im 0.0 + 0.0im; -3.4112559257551306e-27 + 0.0im 0.0 + 0.0im; … ; 0.0 + 0.0im -3.0009731134250017e-79 + 0.0im; -6.452762991729513e-23 + 0.0im 1.0 + 0.0im]\n",
       " [-0.05410428808034656 + 0.0im 1.0 + 0.0im; -0.0049169307435673925 + 0.0im 0.0 + 0.0im; … ; 0.0 + 0.0im 8.291284240777627e-19 - 0.0im; -0.04401448542544217 + 0.0im 0.0 + 0.0im;;; -0.04854917660046838 + 0.0im 0.0 + 0.0im; -0.0044035352266476755 + 0.0im 1.0 + 0.0im; … ; 0.0 + 0.0im 4.959844542273429e-19 - 0.0im; -0.03955322697904713 + 0.0im 0.0 + 0.0im;;; -0.02623834717045245 + 0.0im 0.0 + 0.0im; -0.002387552304558429 + 0.0im 0.0 + 0.0im; … ; 0.0 + 0.0im 6.119730472792261e-19 - 0.0im; -0.021324700283731447 + 0.0im 0.0 + 0.0im;;; … ;;; -0.0006763271447510519 + 0.0im 0.0 + 0.0im; -6.16937935304825e-5 + 0.0im 0.0 + 0.0im; … ; 1.0 + 0.0im 6.202166961845906e-19 - 0.0im; -0.0005486553669861347 + 0.0im 0.0 + 0.0im;;; -0.06477112880312674 + 0.0im 0.0 + 0.0im; -0.005855986979054973 + 0.0im 0.0 + 0.0im; … ; 0.0 + 0.0im 4.3225107394626524e-19 - 0.0im; -0.05289833026032399 + 0.0im 0.0 + 0.0im;;; 0.05073537543950112 + 0.0im 0.0 + 0.0im; 0.004614600312748595 + 0.0im 0.0 + 0.0im; … ; 0.0 + 0.0im -9.991108475006688e-19 + 0.0im; 0.04124799823903352 + 0.0im 1.0 + 0.0im]\n",
       " [0.0 + 0.0im 1.0 + 0.0im; 0.0 + 0.0im 0.0 + 0.0im; … ; 0.005184922624588734 - 0.0im 0.032780486116142524 - 0.0im; -0.009461298575405556 + 0.0im 0.35232788279237354 + 0.0im;;; 1.0 + 0.0im 0.0 + 0.0im; 0.0 + 0.0im 0.0 + 0.0im; … ; 0.22073604457668708 - 0.0im -0.14228582419646033 + 0.0im; 0.8989896636909938 - 0.0im 0.2493671931985605 - 0.0im;;; 0.0 + 0.0im 0.0 + 0.0im; 0.0 + 0.0im 1.0 + 0.0im; … ; -0.012154699724931037 + 0.0im -0.12610808391893943 + 0.0im; 0.023401631219487296 + 0.0im -0.2631674391731475 + 0.0im;;; 0.0 + 0.0im 0.0 + 0.0im; 0.0 + 0.0im 0.0 + 0.0im; … ; -0.054454117226524115 + 0.0im 0.06920538608521051 + 0.0im; 0.4959890855746021 + 0.0im -0.10976179877265788 + 0.0im;;; 0.0 + 0.0im 0.0 + 0.0im; 0.0 + 0.0im 0.0 + 0.0im; … ; -0.006192205400432213 + 0.0im -0.030398832074950692 + 0.0im; 0.010880569349355142 - 0.0im 0.7317439442693097 + 0.0im;;; 0.0 + 0.0im 0.0 + 0.0im; 0.0 + 0.0im 0.0 + 0.0im; … ; 0.017947393418502683 - 0.0im 0.05871082893539009 - 0.0im; -0.029113419356254833 + 0.0im -0.2978441307808163 + 0.0im;;; 0.0 + 0.0im 0.0 + 0.0im; 1.0 + 0.0im 0.0 + 0.0im; … ; 0.3901987662867855 - 0.0im -0.10444011827005809 + 0.0im; 0.309247264009219 - 0.0im 0.1954334407329773 - 0.0im;;; 0.0 + 0.0im 0.0 + 0.0im; 0.0 + 0.0im 0.0 + 0.0im; … ; 0.027763393271951948 - 0.0im 0.7049119644186753 - 0.0im; -0.0563152173968617 + 0.0im 0.36906502753332165 + 0.0im;;; 0.0 + 0.0im 0.0 + 0.0im; 0.0 + 0.0im 0.0 + 0.0im; … ; -0.028668871896150916 + 0.0im -0.09035069224395645 + 0.0im; 0.04609994571890186 - 0.0im 0.4335540294071467 - 0.0im;;; 0.0 + 0.0im 0.0 + 0.0im; 0.0 + 0.0im 0.0 + 0.0im; … ; -0.48396520030801393 + 0.0im 0.22887182405675158 + 0.0im; -0.9537126479910916 + 0.0im -0.4130343958056155 + 0.0im]\n",
       " [1.0 + 0.0im 0.0 + 0.0im; 0.0 + 0.0im 0.0 + 0.0im; … ; -0.019526572314218126 + 0.0im -0.0002822966201940482 + 0.0im; -0.025419125032264348 + 0.0im 0.24187933220671848 - 0.0im;;; 0.0 + 0.0im 0.0 + 0.0im; 0.0 + 0.0im 1.0 + 0.0im; … ; -0.004311363173759503 + 0.0im -6.898677548665785e-5 + 0.0im; -0.017167636533967964 + 0.0im 0.763889136381073 - 0.0im;;; 0.0 + 0.0im 1.0 + 0.0im; 0.0 + 0.0im 0.0 + 0.0im; … ; -0.1095192562582485 + 0.0im -0.0012067702821112413 + 0.0im; -0.04502411742990279 + 0.0im 0.33958830800986867 + 0.0im;;; 0.0 + 0.0im 0.0 + 0.0im; 0.0 + 0.0im 0.0 + 0.0im; … ; 0.022506784658040905 + 0.0im 0.00033898802357872765 - 0.0im; 0.04067945853378921 - 0.0im -0.454485670763095 + 0.0im;;; 0.0 + 0.0im 0.0 + 0.0im; 0.0 + 0.0im 0.0 + 0.0im; … ; 0.10156422591162768 - 0.0im 0.0012640615025304096 - 0.0im; 0.062275000571647476 - 0.0im -0.49292933157284496 + 0.0im;;; 0.0 + 0.0im 0.0 + 0.0im; 1.0 + 0.0im 0.0 + 0.0im; … ; 0.010703576846992607 - 0.0im 0.00017989008817739392 - 0.0im; 0.550409384450998 - 0.0im 0.3817553693302017 + 0.0im;;; 0.0 + 0.0im 0.0 + 0.0im; 0.0 + 0.0im 0.0 + 0.0im; … ; 0.8870400139344288 - 0.0im 0.004704089591077238 - 0.0im; 0.08910001322281573 - 0.0im -0.6265152235244205 + 0.0im]\n",
       " [1.0 + 0.0im 0.0 + 0.0im; -0.928219431533424 + 0.0im 0.0 + 0.0im; … ; -0.05173677309990543 + 0.0im -0.38984795656696525 + 0.0im; 0.09890833914710145 + 0.0im 0.018759272407112483 + 0.0im;;; 0.0 + 0.0im 1.0 + 0.0im; 0.7527589787203504 - 0.0im 0.0 + 0.0im; … ; 0.05004706202179025 - 0.0im 0.35460196892947443 - 0.0im; -0.1738111110717327 + 0.0im -0.03016205760278576 + 0.0im;;; 0.0 + 0.0im 0.0 + 0.0im; 1.0798333340925892 + 0.0im 1.0 + 0.0im; … ; 0.040369192391643785 + 0.0im 0.34118236686086295 + 0.0im; -0.043660081123814046 + 0.0im -0.00871130988293478 + 0.0im;;; 0.0 + 0.0im 0.0 + 0.0im; -0.48595765646841527 + 0.0im 0.0 + 0.0im; … ; -0.035686888378786495 + 0.0im -0.24345404612653215 + 0.0im; 0.26269361273117475 - 0.0im 0.037618562458243715 - 0.0im]\n",
       " [0.45634646712082255 + 0.0im 1.0 + 0.0im; 1.3574221420114252 + 0.0im 1.3527730089158323 + 0.0im; -0.2141858017840057 + 0.0im 0.0 + 0.0im; 1.0438851858081524 + 0.0im 0.6387000324781613 + 0.0im;;; 0.6622616792473769 + 0.0im 0.0 + 0.0im; -0.654629358164774 + 0.0im -0.9770835563023066 + 0.0im; 0.9353625890032906 + 0.0im 1.0 + 0.0im; -0.9033947293399778 + 0.0im -0.6132230513060717 + 0.0im]\n",
       " [8.968507186477073 + 0.0im 8.9425550747954 + 0.0im; 5.614265632680173 + 0.0im 6.782955385412667 + 0.0im;;;]"
      ]
     },
     "metadata": {},
     "output_type": "display_data"
    }
   ],
   "source": [
    "M1 = qtt_v.sitetensors\n",
    "M2 = qtt_q.sitetensors"
   ]
  },
  {
   "cell_type": "code",
   "execution_count": 59,
   "metadata": {},
   "outputs": [
    {
     "data": {
      "text/plain": [
       "24-element Vector{Tuple{Int64, Int64, Int64}}:\n",
       " (1, 2, 2)\n",
       " (2, 2, 3)\n",
       " (3, 2, 5)\n",
       " (5, 2, 9)\n",
       " (9, 2, 18)\n",
       " (18, 2, 35)\n",
       " (35, 2, 68)\n",
       " (68, 2, 83)\n",
       " (83, 2, 86)\n",
       " (86, 2, 112)\n",
       " ⋮\n",
       " (124, 2, 78)\n",
       " (78, 2, 69)\n",
       " (69, 2, 45)\n",
       " (45, 2, 28)\n",
       " (28, 2, 15)\n",
       " (15, 2, 8)\n",
       " (8, 2, 4)\n",
       " (4, 2, 2)\n",
       " (2, 2, 1)"
      ]
     },
     "metadata": {},
     "output_type": "display_data"
    }
   ],
   "source": [
    "size.(M1)"
   ]
  },
  {
   "cell_type": "code",
   "execution_count": 60,
   "metadata": {},
   "outputs": [
    {
     "data": {
      "text/plain": [
       "24-element Vector{Tuple{Int64, Int64, Int64}}:\n",
       " (1, 2, 2)\n",
       " (2, 2, 2)\n",
       " (2, 2, 3)\n",
       " (3, 2, 4)\n",
       " (4, 2, 7)\n",
       " (7, 2, 10)\n",
       " (10, 2, 9)\n",
       " (9, 2, 8)\n",
       " (8, 2, 13)\n",
       " (13, 2, 13)\n",
       " ⋮\n",
       " (16, 2, 8)\n",
       " (8, 2, 11)\n",
       " (11, 2, 11)\n",
       " (11, 2, 12)\n",
       " (12, 2, 10)\n",
       " (10, 2, 7)\n",
       " (7, 2, 4)\n",
       " (4, 2, 2)\n",
       " (2, 2, 1)"
      ]
     },
     "metadata": {},
     "output_type": "display_data"
    }
   ],
   "source": [
    "size.(M2)"
   ]
  },
  {
   "cell_type": "code",
   "execution_count": 61,
   "metadata": {},
   "outputs": [
    {
     "name": "stdout",
     "output_type": "stream",
     "text": [
      "x = 2\n",
      "x = 4\n",
      "x = 6\n",
      "x = 8\n",
      "x = 10\n",
      "x = 12\n",
      "x = 14\n",
      "x = 16\n",
      "x = 18\n",
      "x = 20\n",
      "x = 22\n",
      "x = 24\n",
      "x = 26\n",
      "x = 28\n",
      "x = 30\n",
      "x = 32\n",
      "x = 34\n",
      "x = 36\n",
      "x = 38\n",
      "x = 40\n",
      "x = 42\n",
      "x = 44\n",
      "x = 46\n",
      "x = 48\n",
      "x = 50\n",
      "x = 52\n",
      "x = 54\n",
      "x = 56\n",
      "x = 58\n",
      "x = 60\n",
      "x = 62\n",
      "x = 64\n",
      "x = 66\n",
      "x = 68\n",
      "x = 70\n",
      "x = 72\n",
      "x = 74\n",
      "x = 76\n",
      "x = 78\n",
      "x = 80\n",
      "x = 82\n",
      "x = 84\n",
      "x = 86\n",
      "x = 88\n",
      "x = 90\n",
      "x = 92\n",
      "x = 94\n",
      "x = 96\n",
      "x = 98\n",
      "x = 100\n",
      "x = 102\n",
      "x = 104\n",
      "x = 106\n",
      "x = 108\n",
      "x = 110\n",
      "x = 112\n",
      "x = 114\n",
      "x = 116\n",
      "x = 118\n",
      "x = 120\n",
      "x = 122\n",
      "x = 124\n",
      "x = 126\n",
      "x = 128\n",
      "x = 130\n",
      "x = 132\n",
      "x = 134\n",
      "x = 136\n",
      "x = 138\n",
      "x = 140\n",
      "x = 142\n",
      "x = 144\n",
      "x = 146\n",
      "x = 148\n",
      "x = 150\n",
      "x = 152\n",
      "x = 154\n",
      "x = 156\n",
      "x = 158\n",
      "x = 160\n",
      "x = 162\n",
      "x = 164\n",
      "x = 166\n",
      "x = 168\n",
      "x = 170\n",
      "x = 172\n",
      "x = 174\n",
      "x = 176\n",
      "x = 178\n",
      "x = 180\n",
      "x = 182\n",
      "x = 184\n",
      "x = 186\n",
      "x = 188\n",
      "x = 190\n",
      "x = 192\n",
      "x = 194\n",
      "x = 196\n",
      "x = 198\n",
      "x = 200\n",
      "x = 202\n",
      "x = 204\n",
      "x = 206\n",
      "x = 208\n",
      "x = 210\n",
      "x = 212\n",
      "x = 214\n",
      "x = 216\n",
      "x = 218\n",
      "x = 220\n",
      "x = 222\n",
      "x = 224\n",
      "x = 226\n",
      "x = 228\n",
      "x = 230\n",
      "x = 232\n",
      "x = 234\n",
      "x = 236\n",
      "x = 238\n",
      "x = 240\n",
      "x = 242\n",
      "x = 244\n",
      "x = 246\n",
      "x = 248\n",
      "x = 250\n",
      "x = 252\n",
      "x = 254\n",
      "x = 256\n",
      "smpl_indices_v = Any[[1, 1, 1, 1, 1, 1, 1, 2, 2, 2, 1, 1, 2, 1, 2, 2], [1, 1, 1, 1, 1, 1, 2, 2, 2, 2, 1, 1, 2, 1, 2, 2], [1, 1, 1, 1, 1, 2, 1, 2, 2, 2, 1, 1, 2, 1, 2, 2], [1, 1, 1, 1, 1, 2, 2, 2, 2, 2, 1, 1, 2, 1, 2, 2], [1, 1, 1, 1, 2, 1, 1, 2, 2, 2, 1, 1, 2, 1, 2, 2], [1, 1, 1, 1, 2, 1, 2, 2, 2, 2, 1, 1, 2, 1, 2, 2], [1, 1, 1, 1, 2, 2, 1, 2, 2, 2, 1, 1, 2, 1, 2, 2], [1, 1, 1, 1, 2, 2, 2, 2, 2, 2, 1, 1, 2, 1, 2, 2], [1, 1, 1, 2, 1, 1, 1, 2, 2, 2, 1, 1, 2, 1, 2, 2], [1, 1, 1, 2, 1, 1, 2, 2, 2, 2, 1, 1, 2, 1, 2, 2], [1, 1, 1, 2, 1, 2, 1, 2, 2, 2, 1, 1, 2, 1, 2, 2], [1, 1, 1, 2, 1, 2, 2, 2, 2, 2, 1, 1, 2, 1, 2, 2], [1, 1, 1, 2, 2, 1, 1, 2, 2, 2, 1, 1, 2, 1, 2, 2], [1, 1, 1, 2, 2, 1, 2, 2, 2, 2, 1, 1, 2, 1, 2, 2], [1, 1, 1, 2, 2, 2, 1, 2, 2, 2, 1, 1, 2, 1, 2, 2], [1, 1, 1, 2, 2, 2, 2, 2, 2, 2, 1, 1, 2, 1, 2, 2], [1, 1, 2, 1, 1, 1, 1, 2, 2, 2, 1, 1, 2, 1, 2, 2], [1, 1, 2, 1, 1, 1, 2, 2, 2, 2, 1, 1, 2, 1, 2, 2], [1, 1, 2, 1, 1, 2, 1, 2, 2, 2, 1, 1, 2, 1, 2, 2], [1, 1, 2, 1, 1, 2, 2, 2, 2, 2, 1, 1, 2, 1, 2, 2], [1, 1, 2, 1, 2, 1, 1, 2, 2, 2, 1, 1, 2, 1, 2, 2], [1, 1, 2, 1, 2, 1, 2, 2, 2, 2, 1, 1, 2, 1, 2, 2], [1, 1, 2, 1, 2, 2, 1, 2, 2, 2, 1, 1, 2, 1, 2, 2], [1, 1, 2, 1, 2, 2, 2, 2, 2, 2, 1, 1, 2, 1, 2, 2], [1, 1, 2, 2, 1, 1, 1, 2, 2, 2, 1, 1, 2, 1, 2, 2], [1, 1, 2, 2, 1, 1, 2, 2, 2, 2, 1, 1, 2, 1, 2, 2], [1, 1, 2, 2, 1, 2, 1, 2, 2, 2, 1, 1, 2, 1, 2, 2], [1, 1, 2, 2, 1, 2, 2, 2, 2, 2, 1, 1, 2, 1, 2, 2], [1, 1, 2, 2, 2, 1, 1, 2, 2, 2, 1, 1, 2, 1, 2, 2], [1, 1, 2, 2, 2, 1, 2, 2, 2, 2, 1, 1, 2, 1, 2, 2], [1, 1, 2, 2, 2, 2, 1, 2, 2, 2, 1, 1, 2, 1, 2, 2], [1, 1, 2, 2, 2, 2, 2, 2, 2, 2, 1, 1, 2, 1, 2, 2], [1, 2, 1, 1, 1, 1, 1, 2, 2, 2, 1, 1, 2, 1, 2, 2], [1, 2, 1, 1, 1, 1, 2, 2, 2, 2, 1, 1, 2, 1, 2, 2], [1, 2, 1, 1, 1, 2, 1, 2, 2, 2, 1, 1, 2, 1, 2, 2], [1, 2, 1, 1, 1, 2, 2, 2, 2, 2, 1, 1, 2, 1, 2, 2], [1, 2, 1, 1, 2, 1, 1, 2, 2, 2, 1, 1, 2, 1, 2, 2], [1, 2, 1, 1, 2, 1, 2, 2, 2, 2, 1, 1, 2, 1, 2, 2], [1, 2, 1, 1, 2, 2, 1, 2, 2, 2, 1, 1, 2, 1, 2, 2], [1, 2, 1, 1, 2, 2, 2, 2, 2, 2, 1, 1, 2, 1, 2, 2], [1, 2, 1, 2, 1, 1, 1, 2, 2, 2, 1, 1, 2, 1, 2, 2], [1, 2, 1, 2, 1, 1, 2, 2, 2, 2, 1, 1, 2, 1, 2, 2], [1, 2, 1, 2, 1, 2, 1, 2, 2, 2, 1, 1, 2, 1, 2, 2], [1, 2, 1, 2, 1, 2, 2, 2, 2, 2, 1, 1, 2, 1, 2, 2], [1, 2, 1, 2, 2, 1, 1, 2, 2, 2, 1, 1, 2, 1, 2, 2], [1, 2, 1, 2, 2, 1, 2, 2, 2, 2, 1, 1, 2, 1, 2, 2], [1, 2, 1, 2, 2, 2, 1, 2, 2, 2, 1, 1, 2, 1, 2, 2], [1, 2, 1, 2, 2, 2, 2, 2, 2, 2, 1, 1, 2, 1, 2, 2], [1, 2, 2, 1, 1, 1, 1, 2, 2, 2, 1, 1, 2, 1, 2, 2], [1, 2, 2, 1, 1, 1, 2, 2, 2, 2, 1, 1, 2, 1, 2, 2], [1, 2, 2, 1, 1, 2, 1, 2, 2, 2, 1, 1, 2, 1, 2, 2], [1, 2, 2, 1, 1, 2, 2, 2, 2, 2, 1, 1, 2, 1, 2, 2], [1, 2, 2, 1, 2, 1, 1, 2, 2, 2, 1, 1, 2, 1, 2, 2], [1, 2, 2, 1, 2, 1, 2, 2, 2, 2, 1, 1, 2, 1, 2, 2], [1, 2, 2, 1, 2, 2, 1, 2, 2, 2, 1, 1, 2, 1, 2, 2], [1, 2, 2, 1, 2, 2, 2, 2, 2, 2, 1, 1, 2, 1, 2, 2], [1, 2, 2, 2, 1, 1, 1, 2, 2, 2, 1, 1, 2, 1, 2, 2], [1, 2, 2, 2, 1, 1, 2, 2, 2, 2, 1, 1, 2, 1, 2, 2], [1, 2, 2, 2, 1, 2, 1, 2, 2, 2, 1, 1, 2, 1, 2, 2], [1, 2, 2, 2, 1, 2, 2, 2, 2, 2, 1, 1, 2, 1, 2, 2], [1, 2, 2, 2, 2, 1, 1, 2, 2, 2, 1, 1, 2, 1, 2, 2], [1, 2, 2, 2, 2, 1, 2, 2, 2, 2, 1, 1, 2, 1, 2, 2], [1, 2, 2, 2, 2, 2, 1, 2, 2, 2, 1, 1, 2, 1, 2, 2], [1, 2, 2, 2, 2, 2, 2, 2, 2, 2, 1, 1, 2, 1, 2, 2], [2, 1, 1, 1, 1, 1, 1, 2, 2, 2, 1, 1, 2, 1, 2, 2], [2, 1, 1, 1, 1, 1, 2, 2, 2, 2, 1, 1, 2, 1, 2, 2], [2, 1, 1, 1, 1, 2, 1, 2, 2, 2, 1, 1, 2, 1, 2, 2], [2, 1, 1, 1, 1, 2, 2, 2, 2, 2, 1, 1, 2, 1, 2, 2], [2, 1, 1, 1, 2, 1, 1, 2, 2, 2, 1, 1, 2, 1, 2, 2], [2, 1, 1, 1, 2, 1, 2, 2, 2, 2, 1, 1, 2, 1, 2, 2], [2, 1, 1, 1, 2, 2, 1, 2, 2, 2, 1, 1, 2, 1, 2, 2], [2, 1, 1, 1, 2, 2, 2, 2, 2, 2, 1, 1, 2, 1, 2, 2], [2, 1, 1, 2, 1, 1, 1, 2, 2, 2, 1, 1, 2, 1, 2, 2], [2, 1, 1, 2, 1, 1, 2, 2, 2, 2, 1, 1, 2, 1, 2, 2], [2, 1, 1, 2, 1, 2, 1, 2, 2, 2, 1, 1, 2, 1, 2, 2], [2, 1, 1, 2, 1, 2, 2, 2, 2, 2, 1, 1, 2, 1, 2, 2], [2, 1, 1, 2, 2, 1, 1, 2, 2, 2, 1, 1, 2, 1, 2, 2], [2, 1, 1, 2, 2, 1, 2, 2, 2, 2, 1, 1, 2, 1, 2, 2], [2, 1, 1, 2, 2, 2, 1, 2, 2, 2, 1, 1, 2, 1, 2, 2], [2, 1, 1, 2, 2, 2, 2, 2, 2, 2, 1, 1, 2, 1, 2, 2], [2, 1, 2, 1, 1, 1, 1, 2, 2, 2, 1, 1, 2, 1, 2, 2], [2, 1, 2, 1, 1, 1, 2, 2, 2, 2, 1, 1, 2, 1, 2, 2], [2, 1, 2, 1, 1, 2, 1, 2, 2, 2, 1, 1, 2, 1, 2, 2], [2, 1, 2, 1, 1, 2, 2, 2, 2, 2, 1, 1, 2, 1, 2, 2], [2, 1, 2, 1, 2, 1, 1, 2, 2, 2, 1, 1, 2, 1, 2, 2], [2, 1, 2, 1, 2, 1, 2, 2, 2, 2, 1, 1, 2, 1, 2, 2], [2, 1, 2, 1, 2, 2, 1, 2, 2, 2, 1, 1, 2, 1, 2, 2], [2, 1, 2, 1, 2, 2, 2, 2, 2, 2, 1, 1, 2, 1, 2, 2], [2, 1, 2, 2, 1, 1, 1, 2, 2, 2, 1, 1, 2, 1, 2, 2], [2, 1, 2, 2, 1, 1, 2, 2, 2, 2, 1, 1, 2, 1, 2, 2], [2, 1, 2, 2, 1, 2, 1, 2, 2, 2, 1, 1, 2, 1, 2, 2], [2, 1, 2, 2, 1, 2, 2, 2, 2, 2, 1, 1, 2, 1, 2, 2], [2, 1, 2, 2, 2, 1, 1, 2, 2, 2, 1, 1, 2, 1, 2, 2], [2, 1, 2, 2, 2, 1, 2, 2, 2, 2, 1, 1, 2, 1, 2, 2], [2, 1, 2, 2, 2, 2, 1, 2, 2, 2, 1, 1, 2, 1, 2, 2], [2, 1, 2, 2, 2, 2, 2, 2, 2, 2, 1, 1, 2, 1, 2, 2], [2, 2, 1, 1, 1, 1, 1, 2, 2, 2, 1, 1, 2, 1, 2, 2], [2, 2, 1, 1, 1, 1, 2, 2, 2, 2, 1, 1, 2, 1, 2, 2], [2, 2, 1, 1, 1, 2, 1, 2, 2, 2, 1, 1, 2, 1, 2, 2], [2, 2, 1, 1, 1, 2, 2, 2, 2, 2, 1, 1, 2, 1, 2, 2], [2, 2, 1, 1, 2, 1, 1, 2, 2, 2, 1, 1, 2, 1, 2, 2], [2, 2, 1, 1, 2, 1, 2, 2, 2, 2, 1, 1, 2, 1, 2, 2], [2, 2, 1, 1, 2, 2, 1, 2, 2, 2, 1, 1, 2, 1, 2, 2], [2, 2, 1, 1, 2, 2, 2, 2, 2, 2, 1, 1, 2, 1, 2, 2], [2, 2, 1, 2, 1, 1, 1, 2, 2, 2, 1, 1, 2, 1, 2, 2], [2, 2, 1, 2, 1, 1, 2, 2, 2, 2, 1, 1, 2, 1, 2, 2], [2, 2, 1, 2, 1, 2, 1, 2, 2, 2, 1, 1, 2, 1, 2, 2], [2, 2, 1, 2, 1, 2, 2, 2, 2, 2, 1, 1, 2, 1, 2, 2], [2, 2, 1, 2, 2, 1, 1, 2, 2, 2, 1, 1, 2, 1, 2, 2], [2, 2, 1, 2, 2, 1, 2, 2, 2, 2, 1, 1, 2, 1, 2, 2], [2, 2, 1, 2, 2, 2, 1, 2, 2, 2, 1, 1, 2, 1, 2, 2], [2, 2, 1, 2, 2, 2, 2, 2, 2, 2, 1, 1, 2, 1, 2, 2], [2, 2, 2, 1, 1, 1, 1, 2, 2, 2, 1, 1, 2, 1, 2, 2], [2, 2, 2, 1, 1, 1, 2, 2, 2, 2, 1, 1, 2, 1, 2, 2], [2, 2, 2, 1, 1, 2, 1, 2, 2, 2, 1, 1, 2, 1, 2, 2], [2, 2, 2, 1, 1, 2, 2, 2, 2, 2, 1, 1, 2, 1, 2, 2], [2, 2, 2, 1, 2, 1, 1, 2, 2, 2, 1, 1, 2, 1, 2, 2], [2, 2, 2, 1, 2, 1, 2, 2, 2, 2, 1, 1, 2, 1, 2, 2], [2, 2, 2, 1, 2, 2, 1, 2, 2, 2, 1, 1, 2, 1, 2, 2], [2, 2, 2, 1, 2, 2, 2, 2, 2, 2, 1, 1, 2, 1, 2, 2], [2, 2, 2, 2, 1, 1, 1, 2, 2, 2, 1, 1, 2, 1, 2, 2], [2, 2, 2, 2, 1, 1, 2, 2, 2, 2, 1, 1, 2, 1, 2, 2], [2, 2, 2, 2, 1, 2, 1, 2, 2, 2, 1, 1, 2, 1, 2, 2], [2, 2, 2, 2, 1, 2, 2, 2, 2, 2, 1, 1, 2, 1, 2, 2], [2, 2, 2, 2, 2, 1, 1, 2, 2, 2, 1, 1, 2, 1, 2, 2], [2, 2, 2, 2, 2, 1, 2, 2, 2, 2, 1, 1, 2, 1, 2, 2], [2, 2, 2, 2, 2, 2, 1, 2, 2, 2, 1, 1, 2, 1, 2, 2], [2, 2, 2, 2, 2, 2, 2, 2, 2, 2, 1, 1, 2, 1, 2, 2]]\n",
      "len = length(smpl_indices_q) = 128\n"
     ]
    }
   ],
   "source": [
    "smpl_indices_v = []\n",
    "smpl_indices_q = []\n",
    "for i in 1:2^7\n",
    "    x = 2^(R-7) * i\n",
    "    @show x\n",
    "    x1s = tobins(x, R)\n",
    "    x2s_v = tobins(trunc(Int, N*0.8), R)\n",
    "    x2s_q = tobins(trunc(Int, N*0.6), R)\n",
    "    push!(smpl_indices_v, vcat(x1s, x2s_v))\n",
    "    push!(smpl_indices_q, vcat(x1s, x2s_q))\n",
    "end\n",
    "@show smpl_indices_v\n",
    "@show len = length(smpl_indices_q)\n",
    ";"
   ]
  },
  {
   "cell_type": "code",
   "execution_count": 62,
   "metadata": {},
   "outputs": [],
   "source": [
    "xs_p = collect(1:2^(R-7):N);\n"
   ]
  },
  {
   "cell_type": "code",
   "execution_count": 63,
   "metadata": {},
   "outputs": [
    {
     "ename": "InexactError",
     "evalue": "InexactError: Int64(5.333333333333333)",
     "output_type": "error",
     "traceback": [
      "InexactError: Int64(5.333333333333333)\n",
      "\n",
      "Stacktrace:\n",
      "  [1] Int64\n",
      "    @ ./float.jl:912 [inlined]\n",
      "  [2] (::GenNDfunc{typeof(v)})(b::Vector{Int64})\n",
      "    @ Main ~/Library/Mobile Documents/com~apple~CloudDocs/4年前期/finance/TTvsQTT_Option/notebook/jl_notebook_cell_df34fa98e69747e1a8f8a730347b8e2f_W2sZmlsZQ==.jl:9\n",
      "  [3] (::TensorCrossInterpolation.ThreadedBatchEvaluator{Float64})(indexset::Vector{Int64})\n",
      "    @ TensorCrossInterpolation ~/.julia/packages/TensorCrossInterpolation/xQyHg/src/batcheval.jl:99\n",
      "  [4] _broadcast_getindex_evalf\n",
      "    @ ./broadcast.jl:709 [inlined]\n",
      "  [5] _broadcast_getindex\n",
      "    @ ./broadcast.jl:682 [inlined]\n",
      "  [6] _getindex\n",
      "    @ ./broadcast.jl:706 [inlined]\n",
      "  [7] _broadcast_getindex\n",
      "    @ ./broadcast.jl:681 [inlined]\n",
      "  [8] getindex\n",
      "    @ ./broadcast.jl:636 [inlined]\n",
      "  [9] macro expansion\n",
      "    @ ./broadcast.jl:1004 [inlined]\n",
      " [10] macro expansion\n",
      "    @ ./simdloop.jl:77 [inlined]\n",
      " [11] copyto!\n",
      "    @ ./broadcast.jl:1003 [inlined]\n",
      " [12] copyto!\n",
      "    @ ./broadcast.jl:956 [inlined]\n",
      " [13] copy\n",
      "    @ ./broadcast.jl:928 [inlined]\n",
      " [14] materialize(bc::Base.Broadcast.Broadcasted{Base.Broadcast.DefaultArrayStyle{1}, Nothing, typeof(real), Tuple{Base.Broadcast.Broadcasted{Base.Broadcast.DefaultArrayStyle{1}, Nothing, TensorCrossInterpolation.ThreadedBatchEvaluator{Float64}, Tuple{Vector{Any}}}}})\n",
      "    @ Base.Broadcast ./broadcast.jl:903\n",
      " [15] top-level scope\n",
      "    @ ~/Library/Mobile Documents/com~apple~CloudDocs/4年前期/finance/TTvsQTT_Option/notebook/jl_notebook_cell_df34fa98e69747e1a8f8a730347b8e2f_X35sZmlsZQ==.jl:1"
     ]
    }
   ],
   "source": [
    "plot_v = plot(\n",
    "    xs_p,\n",
    "    real.(v_tci.(smpl_indices_v))\n",
    ")\n",
    "\n",
    "plot!(\n",
    "    plot_v,\n",
    "    xs_p,\n",
    "    real.(evaluate_options_(smpl_indices_v, M1)[1])\n",
    ")"
   ]
  },
  {
   "cell_type": "code",
   "execution_count": 64,
   "metadata": {},
   "outputs": [
    {
     "ename": "UndefVarError",
     "evalue": "UndefVarError: `qo` not defined",
     "output_type": "error",
     "traceback": [
      "UndefVarError: `qo` not defined\n",
      "\n",
      "Stacktrace:\n",
      " [1] macro expansion\n",
      "   @ ~/Library/Mobile Documents/com~apple~CloudDocs/4年前期/finance/TTvsQTT_Option/notebook/jl_notebook_cell_df34fa98e69747e1a8f8a730347b8e2f_X16sZmlsZQ==.jl:7 [inlined]\n",
      " [2] macro expansion\n",
      "   @ ./timing.jl:395 [inlined]\n",
      " [3] evaluate_options_(random_combinations::Vector{Any}, tt_option::Vector{Array{ComplexF64, 3}})\n",
      "   @ Main ~/Library/Mobile Documents/com~apple~CloudDocs/4年前期/finance/TTvsQTT_Option/notebook/jl_notebook_cell_df34fa98e69747e1a8f8a730347b8e2f_X16sZmlsZQ==.jl:6\n",
      " [4] top-level scope\n",
      "   @ ~/Library/Mobile Documents/com~apple~CloudDocs/4年前期/finance/TTvsQTT_Option/notebook/jl_notebook_cell_df34fa98e69747e1a8f8a730347b8e2f_X36sZmlsZQ==.jl:1"
     ]
    }
   ],
   "source": [
    "plot(\n",
    "    xs_p,\n",
    "    real.(v_tci.(smpl_indices_v)) .- real.(evaluate_options_(smpl_indices_v, M1)[1])\n",
    ")"
   ]
  },
  {
   "cell_type": "code",
   "execution_count": 65,
   "metadata": {},
   "outputs": [
    {
     "ename": "InexactError",
     "evalue": "InexactError: Int64(5.333333333333333)",
     "output_type": "error",
     "traceback": [
      "InexactError: Int64(5.333333333333333)\n",
      "\n",
      "Stacktrace:\n",
      "  [1] Int64\n",
      "    @ ./float.jl:912 [inlined]\n",
      "  [2] (::GenNDfunc{typeof(q)})(b::Vector{Int64})\n",
      "    @ Main ~/Library/Mobile Documents/com~apple~CloudDocs/4年前期/finance/TTvsQTT_Option/notebook/jl_notebook_cell_df34fa98e69747e1a8f8a730347b8e2f_W2sZmlsZQ==.jl:9\n",
      "  [3] (::TensorCrossInterpolation.ThreadedBatchEvaluator{Float64})(indexset::Vector{Int64})\n",
      "    @ TensorCrossInterpolation ~/.julia/packages/TensorCrossInterpolation/xQyHg/src/batcheval.jl:99\n",
      "  [4] _broadcast_getindex_evalf\n",
      "    @ ./broadcast.jl:709 [inlined]\n",
      "  [5] _broadcast_getindex\n",
      "    @ ./broadcast.jl:682 [inlined]\n",
      "  [6] _getindex\n",
      "    @ ./broadcast.jl:706 [inlined]\n",
      "  [7] _broadcast_getindex\n",
      "    @ ./broadcast.jl:681 [inlined]\n",
      "  [8] getindex\n",
      "    @ ./broadcast.jl:636 [inlined]\n",
      "  [9] macro expansion\n",
      "    @ ./broadcast.jl:1004 [inlined]\n",
      " [10] macro expansion\n",
      "    @ ./simdloop.jl:77 [inlined]\n",
      " [11] copyto!\n",
      "    @ ./broadcast.jl:1003 [inlined]\n",
      " [12] copyto!\n",
      "    @ ./broadcast.jl:956 [inlined]\n",
      " [13] copy\n",
      "    @ ./broadcast.jl:928 [inlined]\n",
      " [14] materialize(bc::Base.Broadcast.Broadcasted{Base.Broadcast.DefaultArrayStyle{1}, Nothing, typeof(real), Tuple{Base.Broadcast.Broadcasted{Base.Broadcast.DefaultArrayStyle{1}, Nothing, TensorCrossInterpolation.ThreadedBatchEvaluator{Float64}, Tuple{Vector{Any}}}}})\n",
      "    @ Base.Broadcast ./broadcast.jl:903\n",
      " [15] top-level scope\n",
      "    @ ~/Library/Mobile Documents/com~apple~CloudDocs/4年前期/finance/TTvsQTT_Option/notebook/jl_notebook_cell_df34fa98e69747e1a8f8a730347b8e2f_X40sZmlsZQ==.jl:1"
     ]
    }
   ],
   "source": [
    "plot_q = plot(\n",
    "    #yscale = :log10,\n",
    "    xs_p,\n",
    "    real.(q_tci.(smpl_indices_q))\n",
    ")\n",
    "\n",
    "plot!(\n",
    "    plot_q,\n",
    "    xs_p,\n",
    "    real.(evaluate_options_(smpl_indices_q, M2)[1])\n",
    ")"
   ]
  },
  {
   "cell_type": "code",
   "execution_count": 66,
   "metadata": {},
   "outputs": [
    {
     "ename": "UndefVarError",
     "evalue": "UndefVarError: `qo` not defined",
     "output_type": "error",
     "traceback": [
      "UndefVarError: `qo` not defined\n",
      "\n",
      "Stacktrace:\n",
      " [1] macro expansion\n",
      "   @ ~/Library/Mobile Documents/com~apple~CloudDocs/4年前期/finance/TTvsQTT_Option/notebook/jl_notebook_cell_df34fa98e69747e1a8f8a730347b8e2f_X16sZmlsZQ==.jl:7 [inlined]\n",
      " [2] macro expansion\n",
      "   @ ./timing.jl:395 [inlined]\n",
      " [3] evaluate_options_(random_combinations::Vector{Any}, tt_option::Vector{Array{ComplexF64, 3}})\n",
      "   @ Main ~/Library/Mobile Documents/com~apple~CloudDocs/4年前期/finance/TTvsQTT_Option/notebook/jl_notebook_cell_df34fa98e69747e1a8f8a730347b8e2f_X16sZmlsZQ==.jl:6\n",
      " [4] top-level scope\n",
      "   @ ~/Library/Mobile Documents/com~apple~CloudDocs/4年前期/finance/TTvsQTT_Option/notebook/jl_notebook_cell_df34fa98e69747e1a8f8a730347b8e2f_X41sZmlsZQ==.jl:1"
     ]
    }
   ],
   "source": [
    "plot(\n",
    "    xs_p,\n",
    "    real.(q_tci.(smpl_indices_q)) .-  real.(evaluate_options_(smpl_indices_q, M2)[1])\n",
    ")"
   ]
  },
  {
   "cell_type": "code",
   "execution_count": 67,
   "metadata": {},
   "outputs": [],
   "source": [
    "num_samples = 100\n",
    "random_combinations = generate_random_combinations_(d, R, num_samples)\n",
    ";"
   ]
  },
  {
   "cell_type": "code",
   "execution_count": 68,
   "metadata": {},
   "outputs": [
    {
     "ename": "UndefVarError",
     "evalue": "UndefVarError: `qo` not defined",
     "output_type": "error",
     "traceback": [
      "UndefVarError: `qo` not defined\n",
      "\n",
      "Stacktrace:\n",
      " [1] macro expansion\n",
      "   @ ~/Library/Mobile Documents/com~apple~CloudDocs/4年前期/finance/TTvsQTT_Option/notebook/jl_notebook_cell_df34fa98e69747e1a8f8a730347b8e2f_X16sZmlsZQ==.jl:7 [inlined]\n",
      " [2] macro expansion\n",
      "   @ ./timing.jl:395 [inlined]\n",
      " [3] evaluate_options_(random_combinations::Vector{Vector{Int64}}, tt_option::Vector{Array{ComplexF64, 3}})\n",
      "   @ Main ~/Library/Mobile Documents/com~apple~CloudDocs/4年前期/finance/TTvsQTT_Option/notebook/jl_notebook_cell_df34fa98e69747e1a8f8a730347b8e2f_X16sZmlsZQ==.jl:6\n",
      " [4] top-level scope\n",
      "   @ ~/Library/Mobile Documents/com~apple~CloudDocs/4年前期/finance/TTvsQTT_Option/notebook/jl_notebook_cell_df34fa98e69747e1a8f8a730347b8e2f_X43sZmlsZQ==.jl:1"
     ]
    }
   ],
   "source": [
    "max_v = maximum(real.(v_tci.(random_combinations)) .- real.(evaluate_options_(random_combinations, M1)[1]))\n",
    "max_q = maximum(real.(q_tci.(random_combinations)) .- real.(evaluate_options_(random_combinations, M2)[1]))\n",
    "@show max_v \n",
    "@show max_q "
   ]
  },
  {
   "cell_type": "markdown",
   "metadata": {},
   "source": [
    "$$\n",
    "V(\\vec{p})=\\mathbb{E}\\left[e^{-rT}v(\\vec{S}(T))\\middle|\\vec{S}_0\\right]=e^{-rT} \\int_{-\\infty}^{\\infty} v(\\exp(\\vec{x}))q(\\vec{x}|\\vec{x}_0)dx\n",
    "$$"
   ]
  },
  {
   "cell_type": "code",
   "execution_count": 69,
   "metadata": {},
   "outputs": [
    {
     "data": {
      "text/plain": [
       "inner_product_func (generic function with 1 method)"
      ]
     },
     "metadata": {},
     "output_type": "display_data"
    }
   ],
   "source": [
    "function inner_product_func(M1::Vector{Array{ComplexF64,3}}, M2::Vector{Array{ComplexF64,3}})\n",
    "    N = length(M1)  # コアの数\n",
    "    C = ones(ComplexF64, 1)  # 初期の縮約結果（スカラー）\n",
    "\n",
    "    for i in 1:N\n",
    "        G1 = M1[i]         # M1のi番目のコア（サイズ：r1_left × d_i × r1_right）\n",
    "        G2 = M2[i]         # M2のi番目のコア（サイズ：r2_left × d_i × r2_right）\n",
    "\n",
    "        # 各コアの次元を取得\n",
    "        r1_left, d_i, r1_right = size(G1)\n",
    "        r2_left, _, r2_right = size(G2)\n",
    "\n",
    "        # 縮約結果Cをベクトルに変形\n",
    "        C = reshape(C, r1_left * r2_left)\n",
    "\n",
    "        # 転送行列Tを初期化\n",
    "        T = zeros(ComplexF64, r1_right * r2_right, r1_left * r2_left)\n",
    "\n",
    "        # 物理次元（d_i）に沿って縮約\n",
    "        for e in 1:d_i\n",
    "            # コアのスライスを取得\n",
    "            G1_slice = G1[:, e, :]    # サイズ：r1_left × r1_right\n",
    "            G2_slice = G2[:, e, :]  # サイズ：r2_left × r2_right\n",
    "\n",
    "            # Kronecker積を計算\n",
    "            K = kron(G1_slice, G2_slice)  # サイズ：(r1_left * r2_left) × (r1_right * r2_right)\n",
    "\n",
    "            # 転送行列に追加\n",
    "            T += K'\n",
    "        end\n",
    "\n",
    "        # 縮約結果を更新\n",
    "        C = T * C\n",
    "    end\n",
    "\n",
    "    # 最終的な内積を返す\n",
    "    return C[1]\n",
    "end\n"
   ]
  },
  {
   "cell_type": "code",
   "execution_count": 70,
   "metadata": {},
   "outputs": [
    {
     "data": {
      "text/plain": [
       "28340.311044232963 + 0.0im"
      ]
     },
     "metadata": {},
     "output_type": "display_data"
    }
   ],
   "source": [
    "inner_product = inner_product_func(M1, M2)"
   ]
  },
  {
   "cell_type": "code",
   "execution_count": 71,
   "metadata": {},
   "outputs": [
    {
     "data": {
      "text/plain": [
       "1.795732495215524 + 0.0im"
      ]
     },
     "metadata": {},
     "output_type": "display_data"
    }
   ],
   "source": [
    "res = inner_product * exp(- r * T) * (cut^d)"
   ]
  },
  {
   "cell_type": "code",
   "execution_count": 72,
   "metadata": {},
   "outputs": [
    {
     "data": {
      "text/plain": [
       "3.344541197233318"
      ]
     },
     "metadata": {},
     "output_type": "display_data"
    }
   ],
   "source": [
    "ref = 3.344541197233318"
   ]
  },
  {
   "cell_type": "code",
   "execution_count": 73,
   "metadata": {},
   "outputs": [
    {
     "data": {
      "text/plain": [
       "1.548808702017794"
      ]
     },
     "metadata": {},
     "output_type": "display_data"
    }
   ],
   "source": [
    "real(ref - res)"
   ]
  },
  {
   "cell_type": "code",
   "execution_count": 74,
   "metadata": {},
   "outputs": [
    {
     "data": {
      "text/plain": [
       "0.00029746139081110456"
      ]
     },
     "metadata": {},
     "output_type": "display_data"
    }
   ],
   "source": [
    "0.00029746139081110456"
   ]
  },
  {
   "cell_type": "code",
   "execution_count": 75,
   "metadata": {},
   "outputs": [
    {
     "data": {
      "text/plain": [
       "0.46308555065759227"
      ]
     },
     "metadata": {},
     "output_type": "display_data"
    }
   ],
   "source": [
    "real(ref - res) / ref"
   ]
  },
  {
   "cell_type": "code",
   "execution_count": 76,
   "metadata": {},
   "outputs": [
    {
     "name": "stdout",
     "output_type": "stream",
     "text": [
      "bonddims_v = [2, 3, 5, 9, 18, 35, 68, 83, 86, 112, 127, 133, 134, 133, 124, 78, 69, 45, 28, 15, 8, 4, 2]\n",
      "bonddims_q = [2, 2, 3, 4, 7, 10, 9, 8, 13, 13, 16, 22, 30, 27, 16, 8, 11, 11, 12, 10, 7, 4, 2]\n"
     ]
    }
   ],
   "source": [
    "bonddims_v = Int[]\n",
    "bonddims_q = Int[]\n",
    "for i in 2:length(M1)\n",
    "    push!(bonddims_v, size(M1[i])[1])\n",
    "    push!(bonddims_q, size(M2[i])[1])\n",
    "end\n",
    "@show bonddims_v\n",
    "@show bonddims_q\n",
    ";"
   ]
  }
 ],
 "metadata": {
  "kernelspec": {
   "display_name": "Julia 1.10.2",
   "language": "julia",
   "name": "julia-1.10"
  },
  "language_info": {
   "file_extension": ".jl",
   "mimetype": "application/julia",
   "name": "julia",
   "version": "1.10.2"
  }
 },
 "nbformat": 4,
 "nbformat_minor": 2
}
